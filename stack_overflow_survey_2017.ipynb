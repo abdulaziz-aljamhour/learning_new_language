{
  "cells": [
    {
      "cell_type": "markdown",
      "metadata": {
        "id": "view-in-github",
        "colab_type": "text"
      },
      "source": [
        "<a href=\"https://colab.research.google.com/github/abdulaziz-ibrahim27/learning_new_language/blob/main/stack_overflow_survey_2017.ipynb\" target=\"_parent\"><img src=\"https://colab.research.google.com/assets/colab-badge.svg\" alt=\"Open In Colab\"/></a>"
      ]
    },
    {
      "cell_type": "markdown",
      "source": [
        "# Project: Choosing the next programming language to learn\n",
        "\n",
        "\n"
      ],
      "metadata": {
        "id": "SmtoBUtarZpF"
      }
    },
    {
      "cell_type": "markdown",
      "source": [
        "# Section 1: Business Understanding\n"
      ],
      "metadata": {
        "id": "drmi8zC9sDro"
      }
    },
    {
      "cell_type": "markdown",
      "source": [
        "## Brief Description\n",
        "The goal of this project is know what programming language should be learned next based on a the objective of ***landing a new job***.\n",
        "\n",
        "This objective will be achieved using an objective measure which is how many this job can pay me on average."
      ],
      "metadata": {
        "id": "Kx0y6UxosKcb"
      }
    },
    {
      "cell_type": "markdown",
      "source": [
        "## Question 1: What are the most used programming languages?"
      ],
      "metadata": {
        "id": "4It1RWUzsNYJ"
      }
    },
    {
      "cell_type": "markdown",
      "source": [
        "## Question 2: What is the average pay for each of these languages"
      ],
      "metadata": {
        "id": "Kbkl1cU4sNv9"
      }
    },
    {
      "cell_type": "markdown",
      "source": [
        "## Question 3: What jobs can I land using some of these programming languages\n",
        "\n"
      ],
      "metadata": {
        "id": "OXCIkgLOsN_K"
      }
    },
    {
      "cell_type": "markdown",
      "source": [
        "## Question 4: How can you learn one of these programming languages"
      ],
      "metadata": {
        "id": "ABTA9hLSsOkd"
      }
    },
    {
      "cell_type": "markdown",
      "source": [
        "# Section 2: Data Understanding "
      ],
      "metadata": {
        "id": "lFbTeWORA-Wt"
      }
    },
    {
      "cell_type": "markdown",
      "source": [
        "## Access and Explore"
      ],
      "metadata": {
        "id": "Q3q5FGKABBpO"
      }
    },
    {
      "cell_type": "markdown",
      "source": [
        "### Collecting the intitial data"
      ],
      "metadata": {
        "id": "DAqwO4vEBGgi"
      }
    },
    {
      "cell_type": "code",
      "execution_count": 1,
      "metadata": {
        "id": "a8tdu8CdRwUV"
      },
      "outputs": [],
      "source": [
        "# import zipfile for extracting csv files\n",
        "path = 'survey.zip' # use this if zipfile is on the same folder\n",
        "from zipfile import ZipFile\n",
        "with ZipFile(path, 'r') as zip_object:\n",
        "  zip_object.extractall() # extract all files\n",
        "  zip_object.close() # close the data stream"
      ]
    },
    {
      "cell_type": "code",
      "execution_count": 2,
      "metadata": {
        "id": "j5ZdpY3uR1In"
      },
      "outputs": [],
      "source": [
        "# import libraries\n",
        "import numpy as np\n",
        "import pandas as pd\n",
        "import matplotlib.pyplot as plt\n",
        "%matplotlib inline"
      ]
    },
    {
      "cell_type": "markdown",
      "source": [
        "### Describe the data"
      ],
      "metadata": {
        "id": "o9RuZsFODa-N"
      }
    },
    {
      "cell_type": "code",
      "execution_count": 3,
      "metadata": {
        "id": "u-7PJUIsTJSn",
        "colab": {
          "base_uri": "https://localhost:8080/",
          "height": 594
        },
        "outputId": "dc092fc2-b972-44ce-d672-c4642ceb9ef9"
      },
      "outputs": [
        {
          "output_type": "execute_result",
          "data": {
            "text/plain": [
              "   Respondent                                       Professional  \\\n",
              "0           1                                            Student   \n",
              "1           2                                            Student   \n",
              "2           3                             Professional developer   \n",
              "3           4  Professional non-developer who sometimes write...   \n",
              "4           5                             Professional developer   \n",
              "\n",
              "                ProgramHobby         Country      University  \\\n",
              "0                  Yes, both   United States              No   \n",
              "1                  Yes, both  United Kingdom  Yes, full-time   \n",
              "2                  Yes, both  United Kingdom              No   \n",
              "3                  Yes, both   United States              No   \n",
              "4  Yes, I program as a hobby     Switzerland              No   \n",
              "\n",
              "                         EmploymentStatus  \\\n",
              "0  Not employed, and not looking for work   \n",
              "1                      Employed part-time   \n",
              "2                      Employed full-time   \n",
              "3                      Employed full-time   \n",
              "4                      Employed full-time   \n",
              "\n",
              "                                     FormalEducation  \\\n",
              "0                                   Secondary school   \n",
              "1  Some college/university study without earning ...   \n",
              "2                                  Bachelor's degree   \n",
              "3                                    Doctoral degree   \n",
              "4                                    Master's degree   \n",
              "\n",
              "                                  MajorUndergrad  \\\n",
              "0                                            NaN   \n",
              "1       Computer science or software engineering   \n",
              "2       Computer science or software engineering   \n",
              "3  A non-computer-focused engineering discipline   \n",
              "4       Computer science or software engineering   \n",
              "\n",
              "                                          HomeRemote  \\\n",
              "0                                                NaN   \n",
              "1              More than half, but not all, the time   \n",
              "2  Less than half the time, but at least one day ...   \n",
              "3  Less than half the time, but at least one day ...   \n",
              "4                                              Never   \n",
              "\n",
              "                CompanySize  ... StackOverflowMakeMoney Gender  \\\n",
              "0                       NaN  ...      Strongly disagree   Male   \n",
              "1        20 to 99 employees  ...      Strongly disagree   Male   \n",
              "2  10,000 or more employees  ...               Disagree   Male   \n",
              "3  10,000 or more employees  ...               Disagree   Male   \n",
              "4        10 to 19 employees  ...                    NaN    NaN   \n",
              "\n",
              "  HighestEducationParents                          Race         SurveyLong  \\\n",
              "0             High school  White or of European descent  Strongly disagree   \n",
              "1       A master's degree  White or of European descent     Somewhat agree   \n",
              "2   A professional degree  White or of European descent     Somewhat agree   \n",
              "3       A doctoral degree  White or of European descent              Agree   \n",
              "4                     NaN                           NaN                NaN   \n",
              "\n",
              "  QuestionsInteresting QuestionsConfusing InterestedAnswers    Salary  \\\n",
              "0       Strongly agree           Disagree    Strongly agree       NaN   \n",
              "1       Somewhat agree           Disagree    Strongly agree       NaN   \n",
              "2                Agree           Disagree             Agree  113750.0   \n",
              "3                Agree     Somewhat agree    Strongly agree       NaN   \n",
              "4                  NaN                NaN               NaN       NaN   \n",
              "\n",
              "   ExpectedSalary  \n",
              "0             NaN  \n",
              "1         37500.0  \n",
              "2             NaN  \n",
              "3             NaN  \n",
              "4             NaN  \n",
              "\n",
              "[5 rows x 154 columns]"
            ],
            "text/html": [
              "\n",
              "  <div id=\"df-3cf2c321-58aa-45c0-a715-2d364505b04e\">\n",
              "    <div class=\"colab-df-container\">\n",
              "      <div>\n",
              "<style scoped>\n",
              "    .dataframe tbody tr th:only-of-type {\n",
              "        vertical-align: middle;\n",
              "    }\n",
              "\n",
              "    .dataframe tbody tr th {\n",
              "        vertical-align: top;\n",
              "    }\n",
              "\n",
              "    .dataframe thead th {\n",
              "        text-align: right;\n",
              "    }\n",
              "</style>\n",
              "<table border=\"1\" class=\"dataframe\">\n",
              "  <thead>\n",
              "    <tr style=\"text-align: right;\">\n",
              "      <th></th>\n",
              "      <th>Respondent</th>\n",
              "      <th>Professional</th>\n",
              "      <th>ProgramHobby</th>\n",
              "      <th>Country</th>\n",
              "      <th>University</th>\n",
              "      <th>EmploymentStatus</th>\n",
              "      <th>FormalEducation</th>\n",
              "      <th>MajorUndergrad</th>\n",
              "      <th>HomeRemote</th>\n",
              "      <th>CompanySize</th>\n",
              "      <th>...</th>\n",
              "      <th>StackOverflowMakeMoney</th>\n",
              "      <th>Gender</th>\n",
              "      <th>HighestEducationParents</th>\n",
              "      <th>Race</th>\n",
              "      <th>SurveyLong</th>\n",
              "      <th>QuestionsInteresting</th>\n",
              "      <th>QuestionsConfusing</th>\n",
              "      <th>InterestedAnswers</th>\n",
              "      <th>Salary</th>\n",
              "      <th>ExpectedSalary</th>\n",
              "    </tr>\n",
              "  </thead>\n",
              "  <tbody>\n",
              "    <tr>\n",
              "      <th>0</th>\n",
              "      <td>1</td>\n",
              "      <td>Student</td>\n",
              "      <td>Yes, both</td>\n",
              "      <td>United States</td>\n",
              "      <td>No</td>\n",
              "      <td>Not employed, and not looking for work</td>\n",
              "      <td>Secondary school</td>\n",
              "      <td>NaN</td>\n",
              "      <td>NaN</td>\n",
              "      <td>NaN</td>\n",
              "      <td>...</td>\n",
              "      <td>Strongly disagree</td>\n",
              "      <td>Male</td>\n",
              "      <td>High school</td>\n",
              "      <td>White or of European descent</td>\n",
              "      <td>Strongly disagree</td>\n",
              "      <td>Strongly agree</td>\n",
              "      <td>Disagree</td>\n",
              "      <td>Strongly agree</td>\n",
              "      <td>NaN</td>\n",
              "      <td>NaN</td>\n",
              "    </tr>\n",
              "    <tr>\n",
              "      <th>1</th>\n",
              "      <td>2</td>\n",
              "      <td>Student</td>\n",
              "      <td>Yes, both</td>\n",
              "      <td>United Kingdom</td>\n",
              "      <td>Yes, full-time</td>\n",
              "      <td>Employed part-time</td>\n",
              "      <td>Some college/university study without earning ...</td>\n",
              "      <td>Computer science or software engineering</td>\n",
              "      <td>More than half, but not all, the time</td>\n",
              "      <td>20 to 99 employees</td>\n",
              "      <td>...</td>\n",
              "      <td>Strongly disagree</td>\n",
              "      <td>Male</td>\n",
              "      <td>A master's degree</td>\n",
              "      <td>White or of European descent</td>\n",
              "      <td>Somewhat agree</td>\n",
              "      <td>Somewhat agree</td>\n",
              "      <td>Disagree</td>\n",
              "      <td>Strongly agree</td>\n",
              "      <td>NaN</td>\n",
              "      <td>37500.0</td>\n",
              "    </tr>\n",
              "    <tr>\n",
              "      <th>2</th>\n",
              "      <td>3</td>\n",
              "      <td>Professional developer</td>\n",
              "      <td>Yes, both</td>\n",
              "      <td>United Kingdom</td>\n",
              "      <td>No</td>\n",
              "      <td>Employed full-time</td>\n",
              "      <td>Bachelor's degree</td>\n",
              "      <td>Computer science or software engineering</td>\n",
              "      <td>Less than half the time, but at least one day ...</td>\n",
              "      <td>10,000 or more employees</td>\n",
              "      <td>...</td>\n",
              "      <td>Disagree</td>\n",
              "      <td>Male</td>\n",
              "      <td>A professional degree</td>\n",
              "      <td>White or of European descent</td>\n",
              "      <td>Somewhat agree</td>\n",
              "      <td>Agree</td>\n",
              "      <td>Disagree</td>\n",
              "      <td>Agree</td>\n",
              "      <td>113750.0</td>\n",
              "      <td>NaN</td>\n",
              "    </tr>\n",
              "    <tr>\n",
              "      <th>3</th>\n",
              "      <td>4</td>\n",
              "      <td>Professional non-developer who sometimes write...</td>\n",
              "      <td>Yes, both</td>\n",
              "      <td>United States</td>\n",
              "      <td>No</td>\n",
              "      <td>Employed full-time</td>\n",
              "      <td>Doctoral degree</td>\n",
              "      <td>A non-computer-focused engineering discipline</td>\n",
              "      <td>Less than half the time, but at least one day ...</td>\n",
              "      <td>10,000 or more employees</td>\n",
              "      <td>...</td>\n",
              "      <td>Disagree</td>\n",
              "      <td>Male</td>\n",
              "      <td>A doctoral degree</td>\n",
              "      <td>White or of European descent</td>\n",
              "      <td>Agree</td>\n",
              "      <td>Agree</td>\n",
              "      <td>Somewhat agree</td>\n",
              "      <td>Strongly agree</td>\n",
              "      <td>NaN</td>\n",
              "      <td>NaN</td>\n",
              "    </tr>\n",
              "    <tr>\n",
              "      <th>4</th>\n",
              "      <td>5</td>\n",
              "      <td>Professional developer</td>\n",
              "      <td>Yes, I program as a hobby</td>\n",
              "      <td>Switzerland</td>\n",
              "      <td>No</td>\n",
              "      <td>Employed full-time</td>\n",
              "      <td>Master's degree</td>\n",
              "      <td>Computer science or software engineering</td>\n",
              "      <td>Never</td>\n",
              "      <td>10 to 19 employees</td>\n",
              "      <td>...</td>\n",
              "      <td>NaN</td>\n",
              "      <td>NaN</td>\n",
              "      <td>NaN</td>\n",
              "      <td>NaN</td>\n",
              "      <td>NaN</td>\n",
              "      <td>NaN</td>\n",
              "      <td>NaN</td>\n",
              "      <td>NaN</td>\n",
              "      <td>NaN</td>\n",
              "      <td>NaN</td>\n",
              "    </tr>\n",
              "  </tbody>\n",
              "</table>\n",
              "<p>5 rows × 154 columns</p>\n",
              "</div>\n",
              "      <button class=\"colab-df-convert\" onclick=\"convertToInteractive('df-3cf2c321-58aa-45c0-a715-2d364505b04e')\"\n",
              "              title=\"Convert this dataframe to an interactive table.\"\n",
              "              style=\"display:none;\">\n",
              "        \n",
              "  <svg xmlns=\"http://www.w3.org/2000/svg\" height=\"24px\"viewBox=\"0 0 24 24\"\n",
              "       width=\"24px\">\n",
              "    <path d=\"M0 0h24v24H0V0z\" fill=\"none\"/>\n",
              "    <path d=\"M18.56 5.44l.94 2.06.94-2.06 2.06-.94-2.06-.94-.94-2.06-.94 2.06-2.06.94zm-11 1L8.5 8.5l.94-2.06 2.06-.94-2.06-.94L8.5 2.5l-.94 2.06-2.06.94zm10 10l.94 2.06.94-2.06 2.06-.94-2.06-.94-.94-2.06-.94 2.06-2.06.94z\"/><path d=\"M17.41 7.96l-1.37-1.37c-.4-.4-.92-.59-1.43-.59-.52 0-1.04.2-1.43.59L10.3 9.45l-7.72 7.72c-.78.78-.78 2.05 0 2.83L4 21.41c.39.39.9.59 1.41.59.51 0 1.02-.2 1.41-.59l7.78-7.78 2.81-2.81c.8-.78.8-2.07 0-2.86zM5.41 20L4 18.59l7.72-7.72 1.47 1.35L5.41 20z\"/>\n",
              "  </svg>\n",
              "      </button>\n",
              "      \n",
              "  <style>\n",
              "    .colab-df-container {\n",
              "      display:flex;\n",
              "      flex-wrap:wrap;\n",
              "      gap: 12px;\n",
              "    }\n",
              "\n",
              "    .colab-df-convert {\n",
              "      background-color: #E8F0FE;\n",
              "      border: none;\n",
              "      border-radius: 50%;\n",
              "      cursor: pointer;\n",
              "      display: none;\n",
              "      fill: #1967D2;\n",
              "      height: 32px;\n",
              "      padding: 0 0 0 0;\n",
              "      width: 32px;\n",
              "    }\n",
              "\n",
              "    .colab-df-convert:hover {\n",
              "      background-color: #E2EBFA;\n",
              "      box-shadow: 0px 1px 2px rgba(60, 64, 67, 0.3), 0px 1px 3px 1px rgba(60, 64, 67, 0.15);\n",
              "      fill: #174EA6;\n",
              "    }\n",
              "\n",
              "    [theme=dark] .colab-df-convert {\n",
              "      background-color: #3B4455;\n",
              "      fill: #D2E3FC;\n",
              "    }\n",
              "\n",
              "    [theme=dark] .colab-df-convert:hover {\n",
              "      background-color: #434B5C;\n",
              "      box-shadow: 0px 1px 3px 1px rgba(0, 0, 0, 0.15);\n",
              "      filter: drop-shadow(0px 1px 2px rgba(0, 0, 0, 0.3));\n",
              "      fill: #FFFFFF;\n",
              "    }\n",
              "  </style>\n",
              "\n",
              "      <script>\n",
              "        const buttonEl =\n",
              "          document.querySelector('#df-3cf2c321-58aa-45c0-a715-2d364505b04e button.colab-df-convert');\n",
              "        buttonEl.style.display =\n",
              "          google.colab.kernel.accessAllowed ? 'block' : 'none';\n",
              "\n",
              "        async function convertToInteractive(key) {\n",
              "          const element = document.querySelector('#df-3cf2c321-58aa-45c0-a715-2d364505b04e');\n",
              "          const dataTable =\n",
              "            await google.colab.kernel.invokeFunction('convertToInteractive',\n",
              "                                                     [key], {});\n",
              "          if (!dataTable) return;\n",
              "\n",
              "          const docLinkHtml = 'Like what you see? Visit the ' +\n",
              "            '<a target=\"_blank\" href=https://colab.research.google.com/notebooks/data_table.ipynb>data table notebook</a>'\n",
              "            + ' to learn more about interactive tables.';\n",
              "          element.innerHTML = '';\n",
              "          dataTable['output_type'] = 'display_data';\n",
              "          await google.colab.output.renderOutput(dataTable, element);\n",
              "          const docLink = document.createElement('div');\n",
              "          docLink.innerHTML = docLinkHtml;\n",
              "          element.appendChild(docLink);\n",
              "        }\n",
              "      </script>\n",
              "    </div>\n",
              "  </div>\n",
              "  "
            ]
          },
          "metadata": {},
          "execution_count": 3
        }
      ],
      "source": [
        "df = pd.read_csv('survey_results_public.csv')\n",
        "schema = pd.read_csv('survey_results_schema.csv')\n",
        "df.head()"
      ]
    },
    {
      "cell_type": "code",
      "execution_count": 4,
      "metadata": {
        "colab": {
          "base_uri": "https://localhost:8080/",
          "height": 206
        },
        "id": "D8XbJgtJTTxn",
        "outputId": "de529caf-2478-48d7-ef02-d672c0b85d5d"
      },
      "outputs": [
        {
          "output_type": "execute_result",
          "data": {
            "text/plain": [
              "         Column                                           Question\n",
              "0    Respondent                               Respondent ID number\n",
              "1  Professional         Which of the following best describes you?\n",
              "2  ProgramHobby  Do you program as a hobby or contribute to ope...\n",
              "3       Country            In which country do you currently live?\n",
              "4    University  Are you currently enrolled in a formal, degree..."
            ],
            "text/html": [
              "\n",
              "  <div id=\"df-cfafbd51-8921-40c6-9d00-8af06258f0d7\">\n",
              "    <div class=\"colab-df-container\">\n",
              "      <div>\n",
              "<style scoped>\n",
              "    .dataframe tbody tr th:only-of-type {\n",
              "        vertical-align: middle;\n",
              "    }\n",
              "\n",
              "    .dataframe tbody tr th {\n",
              "        vertical-align: top;\n",
              "    }\n",
              "\n",
              "    .dataframe thead th {\n",
              "        text-align: right;\n",
              "    }\n",
              "</style>\n",
              "<table border=\"1\" class=\"dataframe\">\n",
              "  <thead>\n",
              "    <tr style=\"text-align: right;\">\n",
              "      <th></th>\n",
              "      <th>Column</th>\n",
              "      <th>Question</th>\n",
              "    </tr>\n",
              "  </thead>\n",
              "  <tbody>\n",
              "    <tr>\n",
              "      <th>0</th>\n",
              "      <td>Respondent</td>\n",
              "      <td>Respondent ID number</td>\n",
              "    </tr>\n",
              "    <tr>\n",
              "      <th>1</th>\n",
              "      <td>Professional</td>\n",
              "      <td>Which of the following best describes you?</td>\n",
              "    </tr>\n",
              "    <tr>\n",
              "      <th>2</th>\n",
              "      <td>ProgramHobby</td>\n",
              "      <td>Do you program as a hobby or contribute to ope...</td>\n",
              "    </tr>\n",
              "    <tr>\n",
              "      <th>3</th>\n",
              "      <td>Country</td>\n",
              "      <td>In which country do you currently live?</td>\n",
              "    </tr>\n",
              "    <tr>\n",
              "      <th>4</th>\n",
              "      <td>University</td>\n",
              "      <td>Are you currently enrolled in a formal, degree...</td>\n",
              "    </tr>\n",
              "  </tbody>\n",
              "</table>\n",
              "</div>\n",
              "      <button class=\"colab-df-convert\" onclick=\"convertToInteractive('df-cfafbd51-8921-40c6-9d00-8af06258f0d7')\"\n",
              "              title=\"Convert this dataframe to an interactive table.\"\n",
              "              style=\"display:none;\">\n",
              "        \n",
              "  <svg xmlns=\"http://www.w3.org/2000/svg\" height=\"24px\"viewBox=\"0 0 24 24\"\n",
              "       width=\"24px\">\n",
              "    <path d=\"M0 0h24v24H0V0z\" fill=\"none\"/>\n",
              "    <path d=\"M18.56 5.44l.94 2.06.94-2.06 2.06-.94-2.06-.94-.94-2.06-.94 2.06-2.06.94zm-11 1L8.5 8.5l.94-2.06 2.06-.94-2.06-.94L8.5 2.5l-.94 2.06-2.06.94zm10 10l.94 2.06.94-2.06 2.06-.94-2.06-.94-.94-2.06-.94 2.06-2.06.94z\"/><path d=\"M17.41 7.96l-1.37-1.37c-.4-.4-.92-.59-1.43-.59-.52 0-1.04.2-1.43.59L10.3 9.45l-7.72 7.72c-.78.78-.78 2.05 0 2.83L4 21.41c.39.39.9.59 1.41.59.51 0 1.02-.2 1.41-.59l7.78-7.78 2.81-2.81c.8-.78.8-2.07 0-2.86zM5.41 20L4 18.59l7.72-7.72 1.47 1.35L5.41 20z\"/>\n",
              "  </svg>\n",
              "      </button>\n",
              "      \n",
              "  <style>\n",
              "    .colab-df-container {\n",
              "      display:flex;\n",
              "      flex-wrap:wrap;\n",
              "      gap: 12px;\n",
              "    }\n",
              "\n",
              "    .colab-df-convert {\n",
              "      background-color: #E8F0FE;\n",
              "      border: none;\n",
              "      border-radius: 50%;\n",
              "      cursor: pointer;\n",
              "      display: none;\n",
              "      fill: #1967D2;\n",
              "      height: 32px;\n",
              "      padding: 0 0 0 0;\n",
              "      width: 32px;\n",
              "    }\n",
              "\n",
              "    .colab-df-convert:hover {\n",
              "      background-color: #E2EBFA;\n",
              "      box-shadow: 0px 1px 2px rgba(60, 64, 67, 0.3), 0px 1px 3px 1px rgba(60, 64, 67, 0.15);\n",
              "      fill: #174EA6;\n",
              "    }\n",
              "\n",
              "    [theme=dark] .colab-df-convert {\n",
              "      background-color: #3B4455;\n",
              "      fill: #D2E3FC;\n",
              "    }\n",
              "\n",
              "    [theme=dark] .colab-df-convert:hover {\n",
              "      background-color: #434B5C;\n",
              "      box-shadow: 0px 1px 3px 1px rgba(0, 0, 0, 0.15);\n",
              "      filter: drop-shadow(0px 1px 2px rgba(0, 0, 0, 0.3));\n",
              "      fill: #FFFFFF;\n",
              "    }\n",
              "  </style>\n",
              "\n",
              "      <script>\n",
              "        const buttonEl =\n",
              "          document.querySelector('#df-cfafbd51-8921-40c6-9d00-8af06258f0d7 button.colab-df-convert');\n",
              "        buttonEl.style.display =\n",
              "          google.colab.kernel.accessAllowed ? 'block' : 'none';\n",
              "\n",
              "        async function convertToInteractive(key) {\n",
              "          const element = document.querySelector('#df-cfafbd51-8921-40c6-9d00-8af06258f0d7');\n",
              "          const dataTable =\n",
              "            await google.colab.kernel.invokeFunction('convertToInteractive',\n",
              "                                                     [key], {});\n",
              "          if (!dataTable) return;\n",
              "\n",
              "          const docLinkHtml = 'Like what you see? Visit the ' +\n",
              "            '<a target=\"_blank\" href=https://colab.research.google.com/notebooks/data_table.ipynb>data table notebook</a>'\n",
              "            + ' to learn more about interactive tables.';\n",
              "          element.innerHTML = '';\n",
              "          dataTable['output_type'] = 'display_data';\n",
              "          await google.colab.output.renderOutput(dataTable, element);\n",
              "          const docLink = document.createElement('div');\n",
              "          docLink.innerHTML = docLinkHtml;\n",
              "          element.appendChild(docLink);\n",
              "        }\n",
              "      </script>\n",
              "    </div>\n",
              "  </div>\n",
              "  "
            ]
          },
          "metadata": {},
          "execution_count": 4
        }
      ],
      "source": [
        "schema.head()"
      ]
    },
    {
      "cell_type": "code",
      "source": [
        "df.shape # check out how many responses and questions are in the survey"
      ],
      "metadata": {
        "colab": {
          "base_uri": "https://localhost:8080/"
        },
        "id": "hIbzJcPyDl5h",
        "outputId": "e381d59e-f9cc-4c53-ee0e-ccc0105b7d32"
      },
      "execution_count": 5,
      "outputs": [
        {
          "output_type": "execute_result",
          "data": {
            "text/plain": [
              "(51392, 154)"
            ]
          },
          "metadata": {},
          "execution_count": 5
        }
      ]
    },
    {
      "cell_type": "code",
      "source": [
        "schema.shape # check if the schema and survey aligns well"
      ],
      "metadata": {
        "colab": {
          "base_uri": "https://localhost:8080/"
        },
        "id": "ZkiCMkwfDtPO",
        "outputId": "2b1864ab-0c32-4f7f-e74f-b06976c6e081"
      },
      "execution_count": 6,
      "outputs": [
        {
          "output_type": "execute_result",
          "data": {
            "text/plain": [
              "(154, 2)"
            ]
          },
          "metadata": {},
          "execution_count": 6
        }
      ]
    },
    {
      "cell_type": "code",
      "source": [
        "df.describe()"
      ],
      "metadata": {
        "colab": {
          "base_uri": "https://localhost:8080/",
          "height": 300
        },
        "id": "dzW4tZnGHnN7",
        "outputId": "6a812689-a8a6-4b8a-ce46-f43aa93a4ff5"
      },
      "execution_count": 7,
      "outputs": [
        {
          "output_type": "execute_result",
          "data": {
            "text/plain": [
              "         Respondent  CareerSatisfaction  JobSatisfaction  HoursPerWeek  \\\n",
              "count  51392.000000        42695.000000     40376.000000  20600.000000   \n",
              "mean   25696.500000            7.300574         6.957078      3.952282   \n",
              "std    14835.736854            1.955444         2.167652      7.564722   \n",
              "min        1.000000            0.000000         0.000000      0.000000   \n",
              "25%    12848.750000            6.000000         6.000000      1.000000   \n",
              "50%    25696.500000            8.000000         7.000000      1.000000   \n",
              "75%    38544.250000            9.000000         8.000000      4.000000   \n",
              "max    51392.000000           10.000000        10.000000     40.000000   \n",
              "\n",
              "       StackOverflowSatisfaction         Salary  ExpectedSalary  \n",
              "count               36592.000000   12891.000000     2566.000000  \n",
              "mean                    8.429875   56298.480641    33142.220468  \n",
              "std                     1.390635   39880.905277    30162.988829  \n",
              "min                     0.000000       0.000000        0.000000  \n",
              "25%                     8.000000   26440.371839     4490.492484  \n",
              "50%                     9.000000   50000.000000    29364.263691  \n",
              "75%                    10.000000   80000.000000    50403.225806  \n",
              "max                    10.000000  197000.000000   187500.000000  "
            ],
            "text/html": [
              "\n",
              "  <div id=\"df-7d585031-99a4-4237-b041-b3d7170074b3\">\n",
              "    <div class=\"colab-df-container\">\n",
              "      <div>\n",
              "<style scoped>\n",
              "    .dataframe tbody tr th:only-of-type {\n",
              "        vertical-align: middle;\n",
              "    }\n",
              "\n",
              "    .dataframe tbody tr th {\n",
              "        vertical-align: top;\n",
              "    }\n",
              "\n",
              "    .dataframe thead th {\n",
              "        text-align: right;\n",
              "    }\n",
              "</style>\n",
              "<table border=\"1\" class=\"dataframe\">\n",
              "  <thead>\n",
              "    <tr style=\"text-align: right;\">\n",
              "      <th></th>\n",
              "      <th>Respondent</th>\n",
              "      <th>CareerSatisfaction</th>\n",
              "      <th>JobSatisfaction</th>\n",
              "      <th>HoursPerWeek</th>\n",
              "      <th>StackOverflowSatisfaction</th>\n",
              "      <th>Salary</th>\n",
              "      <th>ExpectedSalary</th>\n",
              "    </tr>\n",
              "  </thead>\n",
              "  <tbody>\n",
              "    <tr>\n",
              "      <th>count</th>\n",
              "      <td>51392.000000</td>\n",
              "      <td>42695.000000</td>\n",
              "      <td>40376.000000</td>\n",
              "      <td>20600.000000</td>\n",
              "      <td>36592.000000</td>\n",
              "      <td>12891.000000</td>\n",
              "      <td>2566.000000</td>\n",
              "    </tr>\n",
              "    <tr>\n",
              "      <th>mean</th>\n",
              "      <td>25696.500000</td>\n",
              "      <td>7.300574</td>\n",
              "      <td>6.957078</td>\n",
              "      <td>3.952282</td>\n",
              "      <td>8.429875</td>\n",
              "      <td>56298.480641</td>\n",
              "      <td>33142.220468</td>\n",
              "    </tr>\n",
              "    <tr>\n",
              "      <th>std</th>\n",
              "      <td>14835.736854</td>\n",
              "      <td>1.955444</td>\n",
              "      <td>2.167652</td>\n",
              "      <td>7.564722</td>\n",
              "      <td>1.390635</td>\n",
              "      <td>39880.905277</td>\n",
              "      <td>30162.988829</td>\n",
              "    </tr>\n",
              "    <tr>\n",
              "      <th>min</th>\n",
              "      <td>1.000000</td>\n",
              "      <td>0.000000</td>\n",
              "      <td>0.000000</td>\n",
              "      <td>0.000000</td>\n",
              "      <td>0.000000</td>\n",
              "      <td>0.000000</td>\n",
              "      <td>0.000000</td>\n",
              "    </tr>\n",
              "    <tr>\n",
              "      <th>25%</th>\n",
              "      <td>12848.750000</td>\n",
              "      <td>6.000000</td>\n",
              "      <td>6.000000</td>\n",
              "      <td>1.000000</td>\n",
              "      <td>8.000000</td>\n",
              "      <td>26440.371839</td>\n",
              "      <td>4490.492484</td>\n",
              "    </tr>\n",
              "    <tr>\n",
              "      <th>50%</th>\n",
              "      <td>25696.500000</td>\n",
              "      <td>8.000000</td>\n",
              "      <td>7.000000</td>\n",
              "      <td>1.000000</td>\n",
              "      <td>9.000000</td>\n",
              "      <td>50000.000000</td>\n",
              "      <td>29364.263691</td>\n",
              "    </tr>\n",
              "    <tr>\n",
              "      <th>75%</th>\n",
              "      <td>38544.250000</td>\n",
              "      <td>9.000000</td>\n",
              "      <td>8.000000</td>\n",
              "      <td>4.000000</td>\n",
              "      <td>10.000000</td>\n",
              "      <td>80000.000000</td>\n",
              "      <td>50403.225806</td>\n",
              "    </tr>\n",
              "    <tr>\n",
              "      <th>max</th>\n",
              "      <td>51392.000000</td>\n",
              "      <td>10.000000</td>\n",
              "      <td>10.000000</td>\n",
              "      <td>40.000000</td>\n",
              "      <td>10.000000</td>\n",
              "      <td>197000.000000</td>\n",
              "      <td>187500.000000</td>\n",
              "    </tr>\n",
              "  </tbody>\n",
              "</table>\n",
              "</div>\n",
              "      <button class=\"colab-df-convert\" onclick=\"convertToInteractive('df-7d585031-99a4-4237-b041-b3d7170074b3')\"\n",
              "              title=\"Convert this dataframe to an interactive table.\"\n",
              "              style=\"display:none;\">\n",
              "        \n",
              "  <svg xmlns=\"http://www.w3.org/2000/svg\" height=\"24px\"viewBox=\"0 0 24 24\"\n",
              "       width=\"24px\">\n",
              "    <path d=\"M0 0h24v24H0V0z\" fill=\"none\"/>\n",
              "    <path d=\"M18.56 5.44l.94 2.06.94-2.06 2.06-.94-2.06-.94-.94-2.06-.94 2.06-2.06.94zm-11 1L8.5 8.5l.94-2.06 2.06-.94-2.06-.94L8.5 2.5l-.94 2.06-2.06.94zm10 10l.94 2.06.94-2.06 2.06-.94-2.06-.94-.94-2.06-.94 2.06-2.06.94z\"/><path d=\"M17.41 7.96l-1.37-1.37c-.4-.4-.92-.59-1.43-.59-.52 0-1.04.2-1.43.59L10.3 9.45l-7.72 7.72c-.78.78-.78 2.05 0 2.83L4 21.41c.39.39.9.59 1.41.59.51 0 1.02-.2 1.41-.59l7.78-7.78 2.81-2.81c.8-.78.8-2.07 0-2.86zM5.41 20L4 18.59l7.72-7.72 1.47 1.35L5.41 20z\"/>\n",
              "  </svg>\n",
              "      </button>\n",
              "      \n",
              "  <style>\n",
              "    .colab-df-container {\n",
              "      display:flex;\n",
              "      flex-wrap:wrap;\n",
              "      gap: 12px;\n",
              "    }\n",
              "\n",
              "    .colab-df-convert {\n",
              "      background-color: #E8F0FE;\n",
              "      border: none;\n",
              "      border-radius: 50%;\n",
              "      cursor: pointer;\n",
              "      display: none;\n",
              "      fill: #1967D2;\n",
              "      height: 32px;\n",
              "      padding: 0 0 0 0;\n",
              "      width: 32px;\n",
              "    }\n",
              "\n",
              "    .colab-df-convert:hover {\n",
              "      background-color: #E2EBFA;\n",
              "      box-shadow: 0px 1px 2px rgba(60, 64, 67, 0.3), 0px 1px 3px 1px rgba(60, 64, 67, 0.15);\n",
              "      fill: #174EA6;\n",
              "    }\n",
              "\n",
              "    [theme=dark] .colab-df-convert {\n",
              "      background-color: #3B4455;\n",
              "      fill: #D2E3FC;\n",
              "    }\n",
              "\n",
              "    [theme=dark] .colab-df-convert:hover {\n",
              "      background-color: #434B5C;\n",
              "      box-shadow: 0px 1px 3px 1px rgba(0, 0, 0, 0.15);\n",
              "      filter: drop-shadow(0px 1px 2px rgba(0, 0, 0, 0.3));\n",
              "      fill: #FFFFFF;\n",
              "    }\n",
              "  </style>\n",
              "\n",
              "      <script>\n",
              "        const buttonEl =\n",
              "          document.querySelector('#df-7d585031-99a4-4237-b041-b3d7170074b3 button.colab-df-convert');\n",
              "        buttonEl.style.display =\n",
              "          google.colab.kernel.accessAllowed ? 'block' : 'none';\n",
              "\n",
              "        async function convertToInteractive(key) {\n",
              "          const element = document.querySelector('#df-7d585031-99a4-4237-b041-b3d7170074b3');\n",
              "          const dataTable =\n",
              "            await google.colab.kernel.invokeFunction('convertToInteractive',\n",
              "                                                     [key], {});\n",
              "          if (!dataTable) return;\n",
              "\n",
              "          const docLinkHtml = 'Like what you see? Visit the ' +\n",
              "            '<a target=\"_blank\" href=https://colab.research.google.com/notebooks/data_table.ipynb>data table notebook</a>'\n",
              "            + ' to learn more about interactive tables.';\n",
              "          element.innerHTML = '';\n",
              "          dataTable['output_type'] = 'display_data';\n",
              "          await google.colab.output.renderOutput(dataTable, element);\n",
              "          const docLink = document.createElement('div');\n",
              "          docLink.innerHTML = docLinkHtml;\n",
              "          element.appendChild(docLink);\n",
              "        }\n",
              "      </script>\n",
              "    </div>\n",
              "  </div>\n",
              "  "
            ]
          },
          "metadata": {},
          "execution_count": 7
        }
      ]
    },
    {
      "cell_type": "code",
      "source": [
        "df.info()"
      ],
      "metadata": {
        "colab": {
          "base_uri": "https://localhost:8080/"
        },
        "id": "s8UdR3IYHrKO",
        "outputId": "98c5ad48-2ee6-427c-d2b7-ec68fb276823"
      },
      "execution_count": 8,
      "outputs": [
        {
          "output_type": "stream",
          "name": "stdout",
          "text": [
            "<class 'pandas.core.frame.DataFrame'>\n",
            "RangeIndex: 51392 entries, 0 to 51391\n",
            "Columns: 154 entries, Respondent to ExpectedSalary\n",
            "dtypes: float64(6), int64(1), object(147)\n",
            "memory usage: 60.4+ MB\n"
          ]
        }
      ]
    },
    {
      "cell_type": "markdown",
      "source": [
        "It seems that the data and it's schema are both aligned, the schema is clean."
      ],
      "metadata": {
        "id": "Dpt46kzREOo5"
      }
    },
    {
      "cell_type": "markdown",
      "source": [
        "### Explore the data"
      ],
      "metadata": {
        "id": "nrFB1hX0HeGz"
      }
    },
    {
      "cell_type": "code",
      "execution_count": 9,
      "metadata": {
        "id": "frlVMw9ETX7R",
        "colab": {
          "base_uri": "https://localhost:8080/"
        },
        "outputId": "da1d623c-3597-45e2-fbbd-821669c304dc"
      },
      "outputs": [
        {
          "output_type": "stream",
          "name": "stdout",
          "text": [
            "AnnoyingUI\n",
            "AssessJobCommute\n",
            "AssessJobCompensation\n",
            "AssessJobDept\n",
            "AssessJobDiversity\n",
            "AssessJobExp\n",
            "AssessJobFinances\n",
            "AssessJobIndustry\n",
            "AssessJobLeaders\n",
            "AssessJobOffice\n",
            "AssessJobProduct\n",
            "AssessJobProfDevel\n",
            "AssessJobProjects\n",
            "AssessJobRemote\n",
            "AssessJobRole\n",
            "AssessJobTech\n",
            "AuditoryEnvironment\n",
            "BoringDetails\n",
            "BuildingThings\n",
            "CareerSatisfaction\n",
            "ChallengeMyself\n",
            "ChangeWorld\n",
            "CheckInCode\n",
            "ClickyKeys\n",
            "CollaborateRemote\n",
            "CompanySize\n",
            "CompanyType\n",
            "CompetePeers\n",
            "Country\n",
            "CousinEducation\n",
            "Currency\n",
            "DeveloperType\n",
            "DifficultCommunication\n",
            "DiversityImportant\n",
            "EducationImportant\n",
            "EducationTypes\n",
            "EmploymentStatus\n",
            "EnjoyDebugging\n",
            "EquipmentSatisfiedCPU\n",
            "EquipmentSatisfiedMonitors\n",
            "EquipmentSatisfiedRAM\n",
            "EquipmentSatisfiedRW\n",
            "EquipmentSatisfiedStorage\n",
            "ExCoder10Years\n",
            "ExCoderActive\n",
            "ExCoderBalance\n",
            "ExCoderBelonged\n",
            "ExCoderNotForMe\n",
            "ExCoderReturn\n",
            "ExCoderSkills\n",
            "ExCoderWillNotCode\n",
            "ExpectedSalary\n",
            "FormalEducation\n",
            "FriendsDevelopers\n",
            "Gender\n",
            "HaveWorkedDatabase\n",
            "HaveWorkedFramework\n",
            "HaveWorkedLanguage\n",
            "HaveWorkedPlatform\n",
            "HighestEducationParents\n",
            "HomeRemote\n",
            "HoursPerWeek\n",
            "IDE\n",
            "ImportantBenefits\n",
            "ImportantHiringAlgorithms\n",
            "ImportantHiringCommunication\n",
            "ImportantHiringCompanies\n",
            "ImportantHiringEducation\n",
            "ImportantHiringGettingThingsDone\n",
            "ImportantHiringOpenSource\n",
            "ImportantHiringPMExp\n",
            "ImportantHiringRep\n",
            "ImportantHiringTechExp\n",
            "ImportantHiringTitles\n",
            "InTheZone\n",
            "InfluenceCloud\n",
            "InfluenceCommunication\n",
            "InfluenceConsultants\n",
            "InfluenceDatabase\n",
            "InfluenceDeptTech\n",
            "InfluenceHardware\n",
            "InfluenceInternet\n",
            "InfluenceRecruitment\n",
            "InfluenceServers\n",
            "InfluenceTechStack\n",
            "InfluenceVizTools\n",
            "InfluenceWorkstation\n",
            "InterestedAnswers\n",
            "InvestTimeTools\n",
            "JobProfile\n",
            "JobSatisfaction\n",
            "JobSecurity\n",
            "JobSeekingStatus\n",
            "KinshipDevelopers\n",
            "LastNewJob\n",
            "LearnedHiring\n",
            "LearningNewTech\n",
            "MajorUndergrad\n",
            "Methodology\n",
            "MetricAssess\n",
            "MobileDeveloperType\n",
            "NonDeveloperType\n",
            "OtherPeoplesCode\n",
            "Overpaid\n",
            "ProblemSolving\n",
            "Professional\n",
            "ProgramHobby\n",
            "ProjectManagement\n",
            "PronounceGIF\n",
            "QuestionsConfusing\n",
            "QuestionsInteresting\n",
            "Race\n",
            "Respondent\n",
            "ResumePrompted\n",
            "RightWrongWay\n",
            "Salary\n",
            "SelfTaughtTypes\n",
            "SeriousWork\n",
            "ShipIt\n",
            "StackOverflowAdsDistracting\n",
            "StackOverflowAdsRelevant\n",
            "StackOverflowAnswer\n",
            "StackOverflowBetter\n",
            "StackOverflowCommunity\n",
            "StackOverflowCompanyPage\n",
            "StackOverflowCopiedCode\n",
            "StackOverflowDescribes\n",
            "StackOverflowDevices\n",
            "StackOverflowFoundAnswer\n",
            "StackOverflowHelpful\n",
            "StackOverflowJobListing\n",
            "StackOverflowJobSearch\n",
            "StackOverflowMakeMoney\n",
            "StackOverflowMetaChat\n",
            "StackOverflowModeration\n",
            "StackOverflowNewQuestion\n",
            "StackOverflowSatisfaction\n",
            "StackOverflowWhatDo\n",
            "SurveyLong\n",
            "TabsSpaces\n",
            "TimeAfterBootcamp\n",
            "UnderstandComputers\n",
            "University\n",
            "VersionControl\n",
            "WantWorkDatabase\n",
            "WantWorkFramework\n",
            "WantWorkLanguage\n",
            "WantWorkPlatform\n",
            "WebDeveloperType\n",
            "WorkPayCare\n",
            "WorkStart\n",
            "YearsCodedJob\n",
            "YearsCodedJobPast\n",
            "YearsProgram\n"
          ]
        }
      ],
      "source": [
        "# print all the column names to find some possible answers\n",
        "for col in sorted(df.columns): # print columns in an ascending order using \n",
        "  print(col)                   # sorted()"
      ]
    },
    {
      "cell_type": "markdown",
      "source": [
        "Printing all the column names should give me an estimate of how to find the answers to my questions, some interesting column names are:\n",
        "* Salary\n",
        "* DeveloperType\n",
        "* NonDeveloperType\n",
        "* SelfTaughtTypes\n",
        "* HaveWorkedLanguage"
      ],
      "metadata": {
        "id": "oFXL3aS7EeQ4"
      }
    },
    {
      "cell_type": "code",
      "execution_count": 10,
      "metadata": {
        "id": "0yJrQCXdUo1v"
      },
      "outputs": [],
      "source": [
        "# create a function to print a column's name description\n",
        "def print_description(col_name):\n",
        "  '''\n",
        "  prints the description of each column using the data schema\n",
        "  \n",
        "  input:\n",
        "          col_name: a column name from the survey\n",
        "  output:\n",
        "          None\n",
        "  '''\n",
        "  print(schema.loc[schema.Column == col_name].Question.values[0])"
      ]
    },
    {
      "cell_type": "markdown",
      "source": [
        "The function above should make printing the descriptions of the schema much easier"
      ],
      "metadata": {
        "id": "McMz1I8TFi_P"
      }
    },
    {
      "cell_type": "code",
      "source": [
        "interesting_columns = [\n",
        "    'Salary',\n",
        "    'DeveloperType',\n",
        "    'NonDeveloperType',\n",
        "    'SelfTaughtTypes',\n",
        "    'HaveWorkedLanguage'\n",
        "]\n",
        "\n",
        "for column in interesting_columns:\n",
        "  print(f'{column}')\n",
        "  print_description(column)\n",
        "  print()\n"
      ],
      "metadata": {
        "colab": {
          "base_uri": "https://localhost:8080/"
        },
        "id": "h-bqt_nuFrTM",
        "outputId": "99568404-81c2-48b3-e24b-b186805f5700"
      },
      "execution_count": 11,
      "outputs": [
        {
          "output_type": "stream",
          "name": "stdout",
          "text": [
            "Salary\n",
            "What is your current annual base salary, before taxes, and excluding bonuses, grants, or other compensation?\n",
            "\n",
            "DeveloperType\n",
            "Which of the following best describe you?\n",
            "\n",
            "NonDeveloperType\n",
            "Which of the following describe you?\n",
            "\n",
            "SelfTaughtTypes\n",
            "You indicated that you had taught yourself a programming technology without taking a course. What resources did you use to do that? If you've done it more than once, please think about the most recent time you've done so.\n",
            "\n",
            "HaveWorkedLanguage\n",
            "Which of the following languages have you done extensive development work in over the past year, and which do you want to work in over the next year?\n",
            "\n"
          ]
        }
      ]
    },
    {
      "cell_type": "code",
      "source": [
        "# lets sample some of columns in interest.\n",
        "df['DeveloperType'].dropna().sample(5).values, df['NonDeveloperType'].dropna().sample(5).values"
      ],
      "metadata": {
        "colab": {
          "base_uri": "https://localhost:8080/"
        },
        "id": "QrNOw69LGjRB",
        "outputId": "523e06c3-32f9-4c49-ee45-9044bf93eb98"
      },
      "execution_count": 12,
      "outputs": [
        {
          "output_type": "execute_result",
          "data": {
            "text/plain": [
              "(array(['Desktop applications developer', 'Web developer; Other',\n",
              "        'Web developer', 'Web developer', 'Web developer'], dtype=object),\n",
              " array(['Data scientist', 'Educator or academic', 'Analyst or consultant',\n",
              "        'Analyst or consultant', 'Data scientist'], dtype=object))"
            ]
          },
          "metadata": {},
          "execution_count": 12
        }
      ]
    },
    {
      "cell_type": "code",
      "source": [
        "df['SelfTaughtTypes'].dropna().sample(5)"
      ],
      "metadata": {
        "colab": {
          "base_uri": "https://localhost:8080/"
        },
        "id": "Qfki-PndlspH",
        "outputId": "fc0b7687-2de0-4dfb-c0df-4e8e5227fa94"
      },
      "execution_count": 13,
      "outputs": [
        {
          "output_type": "execute_result",
          "data": {
            "text/plain": [
              "22465    Official documentation; Trade book; Textbook; ...\n",
              "7271     Official documentation; Trade book; Non-Stack ...\n",
              "9906                 Trade book; Stack Overflow Q&A; Other\n",
              "41650    Official documentation; Stack Overflow Q&A; No...\n",
              "10737    Official documentation; Non-Stack online commu...\n",
              "Name: SelfTaughtTypes, dtype: object"
            ]
          },
          "metadata": {},
          "execution_count": 13
        }
      ]
    },
    {
      "cell_type": "code",
      "source": [
        "df['HaveWorkedLanguage'].dropna().sample(5)"
      ],
      "metadata": {
        "colab": {
          "base_uri": "https://localhost:8080/"
        },
        "id": "tyCMJjZ8HQml",
        "outputId": "42659701-a853-42b2-ca61-e29fdb83adaa"
      },
      "execution_count": 14,
      "outputs": [
        {
          "output_type": "execute_result",
          "data": {
            "text/plain": [
              "817                           Assembly; C; C++; C#; Python\n",
              "28381                                                  C++\n",
              "40820                                     JavaScript; Ruby\n",
              "16783                                   Clojure; Java; SQL\n",
              "33667    Assembly; C; C++; Go; Haskell; Java; JavaScrip...\n",
              "Name: HaveWorkedLanguage, dtype: object"
            ]
          },
          "metadata": {},
          "execution_count": 14
        }
      ]
    },
    {
      "cell_type": "markdown",
      "source": [
        "* The Non/DeveloperType columns describe what job best fits the respondent\n",
        "\n",
        "* SelfTaughtTypes describe how the respondent taugh themselve the language the use\n",
        "\n",
        "* HaveWorkedLanguage is what language they used extensively. \n"
      ],
      "metadata": {
        "id": "CP4aXAwaHYic"
      }
    },
    {
      "cell_type": "markdown",
      "source": [
        "### Verify data quality\n",
        "Verify the data quality by checking the values and how much missing data is there"
      ],
      "metadata": {
        "id": "hVlr-uilIrIQ"
      }
    },
    {
      "cell_type": "code",
      "source": [
        "# How many columns have missing data?\n",
        "np.sum(df.isna().sum() > 0)"
      ],
      "metadata": {
        "colab": {
          "base_uri": "https://localhost:8080/"
        },
        "id": "ecn5iu4_I4pX",
        "outputId": "ad0c7908-e81e-455f-f581-bce970cb42ba"
      },
      "execution_count": 15,
      "outputs": [
        {
          "output_type": "execute_result",
          "data": {
            "text/plain": [
              "147"
            ]
          },
          "metadata": {},
          "execution_count": 15
        }
      ]
    },
    {
      "cell_type": "code",
      "source": [
        "# list columns with missing data\n",
        "list(df.columns[(df.isna().sum() > 0)])"
      ],
      "metadata": {
        "id": "jglKud-1JUIl",
        "colab": {
          "base_uri": "https://localhost:8080/"
        },
        "outputId": "d6a11527-59bc-4535-d9cf-3f285c591f84"
      },
      "execution_count": 16,
      "outputs": [
        {
          "output_type": "execute_result",
          "data": {
            "text/plain": [
              "['MajorUndergrad',\n",
              " 'HomeRemote',\n",
              " 'CompanySize',\n",
              " 'CompanyType',\n",
              " 'YearsProgram',\n",
              " 'YearsCodedJob',\n",
              " 'YearsCodedJobPast',\n",
              " 'DeveloperType',\n",
              " 'WebDeveloperType',\n",
              " 'MobileDeveloperType',\n",
              " 'NonDeveloperType',\n",
              " 'CareerSatisfaction',\n",
              " 'JobSatisfaction',\n",
              " 'ExCoderReturn',\n",
              " 'ExCoderNotForMe',\n",
              " 'ExCoderBalance',\n",
              " 'ExCoder10Years',\n",
              " 'ExCoderBelonged',\n",
              " 'ExCoderSkills',\n",
              " 'ExCoderWillNotCode',\n",
              " 'ExCoderActive',\n",
              " 'PronounceGIF',\n",
              " 'ProblemSolving',\n",
              " 'BuildingThings',\n",
              " 'LearningNewTech',\n",
              " 'BoringDetails',\n",
              " 'JobSecurity',\n",
              " 'DiversityImportant',\n",
              " 'AnnoyingUI',\n",
              " 'FriendsDevelopers',\n",
              " 'RightWrongWay',\n",
              " 'UnderstandComputers',\n",
              " 'SeriousWork',\n",
              " 'InvestTimeTools',\n",
              " 'WorkPayCare',\n",
              " 'KinshipDevelopers',\n",
              " 'ChallengeMyself',\n",
              " 'CompetePeers',\n",
              " 'ChangeWorld',\n",
              " 'JobSeekingStatus',\n",
              " 'HoursPerWeek',\n",
              " 'LastNewJob',\n",
              " 'AssessJobIndustry',\n",
              " 'AssessJobRole',\n",
              " 'AssessJobExp',\n",
              " 'AssessJobDept',\n",
              " 'AssessJobTech',\n",
              " 'AssessJobProjects',\n",
              " 'AssessJobCompensation',\n",
              " 'AssessJobOffice',\n",
              " 'AssessJobCommute',\n",
              " 'AssessJobRemote',\n",
              " 'AssessJobLeaders',\n",
              " 'AssessJobProfDevel',\n",
              " 'AssessJobDiversity',\n",
              " 'AssessJobProduct',\n",
              " 'AssessJobFinances',\n",
              " 'ImportantBenefits',\n",
              " 'ClickyKeys',\n",
              " 'JobProfile',\n",
              " 'ResumePrompted',\n",
              " 'LearnedHiring',\n",
              " 'ImportantHiringAlgorithms',\n",
              " 'ImportantHiringTechExp',\n",
              " 'ImportantHiringCommunication',\n",
              " 'ImportantHiringOpenSource',\n",
              " 'ImportantHiringPMExp',\n",
              " 'ImportantHiringCompanies',\n",
              " 'ImportantHiringTitles',\n",
              " 'ImportantHiringEducation',\n",
              " 'ImportantHiringRep',\n",
              " 'ImportantHiringGettingThingsDone',\n",
              " 'Currency',\n",
              " 'Overpaid',\n",
              " 'TabsSpaces',\n",
              " 'EducationImportant',\n",
              " 'EducationTypes',\n",
              " 'SelfTaughtTypes',\n",
              " 'TimeAfterBootcamp',\n",
              " 'CousinEducation',\n",
              " 'WorkStart',\n",
              " 'HaveWorkedLanguage',\n",
              " 'WantWorkLanguage',\n",
              " 'HaveWorkedFramework',\n",
              " 'WantWorkFramework',\n",
              " 'HaveWorkedDatabase',\n",
              " 'WantWorkDatabase',\n",
              " 'HaveWorkedPlatform',\n",
              " 'WantWorkPlatform',\n",
              " 'IDE',\n",
              " 'AuditoryEnvironment',\n",
              " 'Methodology',\n",
              " 'VersionControl',\n",
              " 'CheckInCode',\n",
              " 'ShipIt',\n",
              " 'OtherPeoplesCode',\n",
              " 'ProjectManagement',\n",
              " 'EnjoyDebugging',\n",
              " 'InTheZone',\n",
              " 'DifficultCommunication',\n",
              " 'CollaborateRemote',\n",
              " 'MetricAssess',\n",
              " 'EquipmentSatisfiedMonitors',\n",
              " 'EquipmentSatisfiedCPU',\n",
              " 'EquipmentSatisfiedRAM',\n",
              " 'EquipmentSatisfiedStorage',\n",
              " 'EquipmentSatisfiedRW',\n",
              " 'InfluenceInternet',\n",
              " 'InfluenceWorkstation',\n",
              " 'InfluenceHardware',\n",
              " 'InfluenceServers',\n",
              " 'InfluenceTechStack',\n",
              " 'InfluenceDeptTech',\n",
              " 'InfluenceVizTools',\n",
              " 'InfluenceDatabase',\n",
              " 'InfluenceCloud',\n",
              " 'InfluenceConsultants',\n",
              " 'InfluenceRecruitment',\n",
              " 'InfluenceCommunication',\n",
              " 'StackOverflowDescribes',\n",
              " 'StackOverflowSatisfaction',\n",
              " 'StackOverflowDevices',\n",
              " 'StackOverflowFoundAnswer',\n",
              " 'StackOverflowCopiedCode',\n",
              " 'StackOverflowJobListing',\n",
              " 'StackOverflowCompanyPage',\n",
              " 'StackOverflowJobSearch',\n",
              " 'StackOverflowNewQuestion',\n",
              " 'StackOverflowAnswer',\n",
              " 'StackOverflowMetaChat',\n",
              " 'StackOverflowAdsRelevant',\n",
              " 'StackOverflowAdsDistracting',\n",
              " 'StackOverflowModeration',\n",
              " 'StackOverflowCommunity',\n",
              " 'StackOverflowHelpful',\n",
              " 'StackOverflowBetter',\n",
              " 'StackOverflowWhatDo',\n",
              " 'StackOverflowMakeMoney',\n",
              " 'Gender',\n",
              " 'HighestEducationParents',\n",
              " 'Race',\n",
              " 'SurveyLong',\n",
              " 'QuestionsInteresting',\n",
              " 'QuestionsConfusing',\n",
              " 'InterestedAnswers',\n",
              " 'Salary',\n",
              " 'ExpectedSalary']"
            ]
          },
          "metadata": {},
          "execution_count": 16
        }
      ]
    },
    {
      "cell_type": "markdown",
      "source": [
        "Sample the data in order to understand if the data values have the correct types and if it's well formatted"
      ],
      "metadata": {
        "id": "Pm9kdVpGOD_x"
      }
    },
    {
      "cell_type": "code",
      "source": [
        "# sample some colmns to get an understanding of the data values\n",
        "df.sample(5)"
      ],
      "metadata": {
        "colab": {
          "base_uri": "https://localhost:8080/",
          "height": 560
        },
        "id": "8zUXz3KaKbX5",
        "outputId": "acd2b146-922f-4cfb-c792-022eb4601cc8"
      },
      "execution_count": 17,
      "outputs": [
        {
          "output_type": "execute_result",
          "data": {
            "text/plain": [
              "       Respondent            Professional  \\\n",
              "38866       38867  Professional developer   \n",
              "51252       51253                 Student   \n",
              "38115       38116  Professional developer   \n",
              "26652       26653  Professional developer   \n",
              "28454       28455  Professional developer   \n",
              "\n",
              "                                    ProgramHobby        Country  \\\n",
              "38866                                         No  United States   \n",
              "51252                                  Yes, both          Italy   \n",
              "38115                  Yes, I program as a hobby         France   \n",
              "26652  Yes, I contribute to open source projects         Uganda   \n",
              "28454                                  Yes, both          India   \n",
              "\n",
              "                University                                   EmploymentStatus  \\\n",
              "38866                   No                                 Employed full-time   \n",
              "51252       Yes, full-time  Independent contractor, freelancer, or self-em...   \n",
              "38115                   No                                 Employed full-time   \n",
              "26652                   No  Independent contractor, freelancer, or self-em...   \n",
              "28454  I prefer not to say                                 Employed full-time   \n",
              "\n",
              "                                         FormalEducation  \\\n",
              "38866                                    Master's degree   \n",
              "51252  Some college/university study without earning ...   \n",
              "38115                                    Master's degree   \n",
              "26652                                  Bachelor's degree   \n",
              "28454                                  Bachelor's degree   \n",
              "\n",
              "                                          MajorUndergrad  \\\n",
              "38866           Computer science or software engineering   \n",
              "51252  Information technology, networking, or system ...   \n",
              "38115           Computer science or software engineering   \n",
              "26652           Computer science or software engineering   \n",
              "28454           Computer science or software engineering   \n",
              "\n",
              "                                  HomeRemote           CompanySize  ...  \\\n",
              "38866                                  Never  100 to 499 employees  ...   \n",
              "51252                    About half the time                   NaN  ...   \n",
              "38115                                  Never  100 to 499 employees  ...   \n",
              "26652  More than half, but not all, the time                   NaN  ...   \n",
              "28454  More than half, but not all, the time    20 to 99 employees  ...   \n",
              "\n",
              "      StackOverflowMakeMoney Gender HighestEducationParents Race SurveyLong  \\\n",
              "38866                    NaN    NaN                     NaN  NaN        NaN   \n",
              "51252                    NaN    NaN                     NaN  NaN        NaN   \n",
              "38115      Strongly disagree   Male     A bachelor's degree  NaN      Agree   \n",
              "26652                    NaN    NaN                     NaN  NaN        NaN   \n",
              "28454                    NaN    NaN                     NaN  NaN        NaN   \n",
              "\n",
              "      QuestionsInteresting QuestionsConfusing InterestedAnswers  Salary  \\\n",
              "38866                  NaN                NaN               NaN     NaN   \n",
              "51252                  NaN                NaN               NaN     NaN   \n",
              "38115                Agree           Disagree             Agree     NaN   \n",
              "26652                  NaN                NaN               NaN     NaN   \n",
              "28454                  NaN                NaN               NaN     NaN   \n",
              "\n",
              "       ExpectedSalary  \n",
              "38866             NaN  \n",
              "51252             NaN  \n",
              "38115             NaN  \n",
              "26652             NaN  \n",
              "28454             NaN  \n",
              "\n",
              "[5 rows x 154 columns]"
            ],
            "text/html": [
              "\n",
              "  <div id=\"df-c9d9606f-6345-4cf6-9782-1a09c1b28086\">\n",
              "    <div class=\"colab-df-container\">\n",
              "      <div>\n",
              "<style scoped>\n",
              "    .dataframe tbody tr th:only-of-type {\n",
              "        vertical-align: middle;\n",
              "    }\n",
              "\n",
              "    .dataframe tbody tr th {\n",
              "        vertical-align: top;\n",
              "    }\n",
              "\n",
              "    .dataframe thead th {\n",
              "        text-align: right;\n",
              "    }\n",
              "</style>\n",
              "<table border=\"1\" class=\"dataframe\">\n",
              "  <thead>\n",
              "    <tr style=\"text-align: right;\">\n",
              "      <th></th>\n",
              "      <th>Respondent</th>\n",
              "      <th>Professional</th>\n",
              "      <th>ProgramHobby</th>\n",
              "      <th>Country</th>\n",
              "      <th>University</th>\n",
              "      <th>EmploymentStatus</th>\n",
              "      <th>FormalEducation</th>\n",
              "      <th>MajorUndergrad</th>\n",
              "      <th>HomeRemote</th>\n",
              "      <th>CompanySize</th>\n",
              "      <th>...</th>\n",
              "      <th>StackOverflowMakeMoney</th>\n",
              "      <th>Gender</th>\n",
              "      <th>HighestEducationParents</th>\n",
              "      <th>Race</th>\n",
              "      <th>SurveyLong</th>\n",
              "      <th>QuestionsInteresting</th>\n",
              "      <th>QuestionsConfusing</th>\n",
              "      <th>InterestedAnswers</th>\n",
              "      <th>Salary</th>\n",
              "      <th>ExpectedSalary</th>\n",
              "    </tr>\n",
              "  </thead>\n",
              "  <tbody>\n",
              "    <tr>\n",
              "      <th>38866</th>\n",
              "      <td>38867</td>\n",
              "      <td>Professional developer</td>\n",
              "      <td>No</td>\n",
              "      <td>United States</td>\n",
              "      <td>No</td>\n",
              "      <td>Employed full-time</td>\n",
              "      <td>Master's degree</td>\n",
              "      <td>Computer science or software engineering</td>\n",
              "      <td>Never</td>\n",
              "      <td>100 to 499 employees</td>\n",
              "      <td>...</td>\n",
              "      <td>NaN</td>\n",
              "      <td>NaN</td>\n",
              "      <td>NaN</td>\n",
              "      <td>NaN</td>\n",
              "      <td>NaN</td>\n",
              "      <td>NaN</td>\n",
              "      <td>NaN</td>\n",
              "      <td>NaN</td>\n",
              "      <td>NaN</td>\n",
              "      <td>NaN</td>\n",
              "    </tr>\n",
              "    <tr>\n",
              "      <th>51252</th>\n",
              "      <td>51253</td>\n",
              "      <td>Student</td>\n",
              "      <td>Yes, both</td>\n",
              "      <td>Italy</td>\n",
              "      <td>Yes, full-time</td>\n",
              "      <td>Independent contractor, freelancer, or self-em...</td>\n",
              "      <td>Some college/university study without earning ...</td>\n",
              "      <td>Information technology, networking, or system ...</td>\n",
              "      <td>About half the time</td>\n",
              "      <td>NaN</td>\n",
              "      <td>...</td>\n",
              "      <td>NaN</td>\n",
              "      <td>NaN</td>\n",
              "      <td>NaN</td>\n",
              "      <td>NaN</td>\n",
              "      <td>NaN</td>\n",
              "      <td>NaN</td>\n",
              "      <td>NaN</td>\n",
              "      <td>NaN</td>\n",
              "      <td>NaN</td>\n",
              "      <td>NaN</td>\n",
              "    </tr>\n",
              "    <tr>\n",
              "      <th>38115</th>\n",
              "      <td>38116</td>\n",
              "      <td>Professional developer</td>\n",
              "      <td>Yes, I program as a hobby</td>\n",
              "      <td>France</td>\n",
              "      <td>No</td>\n",
              "      <td>Employed full-time</td>\n",
              "      <td>Master's degree</td>\n",
              "      <td>Computer science or software engineering</td>\n",
              "      <td>Never</td>\n",
              "      <td>100 to 499 employees</td>\n",
              "      <td>...</td>\n",
              "      <td>Strongly disagree</td>\n",
              "      <td>Male</td>\n",
              "      <td>A bachelor's degree</td>\n",
              "      <td>NaN</td>\n",
              "      <td>Agree</td>\n",
              "      <td>Agree</td>\n",
              "      <td>Disagree</td>\n",
              "      <td>Agree</td>\n",
              "      <td>NaN</td>\n",
              "      <td>NaN</td>\n",
              "    </tr>\n",
              "    <tr>\n",
              "      <th>26652</th>\n",
              "      <td>26653</td>\n",
              "      <td>Professional developer</td>\n",
              "      <td>Yes, I contribute to open source projects</td>\n",
              "      <td>Uganda</td>\n",
              "      <td>No</td>\n",
              "      <td>Independent contractor, freelancer, or self-em...</td>\n",
              "      <td>Bachelor's degree</td>\n",
              "      <td>Computer science or software engineering</td>\n",
              "      <td>More than half, but not all, the time</td>\n",
              "      <td>NaN</td>\n",
              "      <td>...</td>\n",
              "      <td>NaN</td>\n",
              "      <td>NaN</td>\n",
              "      <td>NaN</td>\n",
              "      <td>NaN</td>\n",
              "      <td>NaN</td>\n",
              "      <td>NaN</td>\n",
              "      <td>NaN</td>\n",
              "      <td>NaN</td>\n",
              "      <td>NaN</td>\n",
              "      <td>NaN</td>\n",
              "    </tr>\n",
              "    <tr>\n",
              "      <th>28454</th>\n",
              "      <td>28455</td>\n",
              "      <td>Professional developer</td>\n",
              "      <td>Yes, both</td>\n",
              "      <td>India</td>\n",
              "      <td>I prefer not to say</td>\n",
              "      <td>Employed full-time</td>\n",
              "      <td>Bachelor's degree</td>\n",
              "      <td>Computer science or software engineering</td>\n",
              "      <td>More than half, but not all, the time</td>\n",
              "      <td>20 to 99 employees</td>\n",
              "      <td>...</td>\n",
              "      <td>NaN</td>\n",
              "      <td>NaN</td>\n",
              "      <td>NaN</td>\n",
              "      <td>NaN</td>\n",
              "      <td>NaN</td>\n",
              "      <td>NaN</td>\n",
              "      <td>NaN</td>\n",
              "      <td>NaN</td>\n",
              "      <td>NaN</td>\n",
              "      <td>NaN</td>\n",
              "    </tr>\n",
              "  </tbody>\n",
              "</table>\n",
              "<p>5 rows × 154 columns</p>\n",
              "</div>\n",
              "      <button class=\"colab-df-convert\" onclick=\"convertToInteractive('df-c9d9606f-6345-4cf6-9782-1a09c1b28086')\"\n",
              "              title=\"Convert this dataframe to an interactive table.\"\n",
              "              style=\"display:none;\">\n",
              "        \n",
              "  <svg xmlns=\"http://www.w3.org/2000/svg\" height=\"24px\"viewBox=\"0 0 24 24\"\n",
              "       width=\"24px\">\n",
              "    <path d=\"M0 0h24v24H0V0z\" fill=\"none\"/>\n",
              "    <path d=\"M18.56 5.44l.94 2.06.94-2.06 2.06-.94-2.06-.94-.94-2.06-.94 2.06-2.06.94zm-11 1L8.5 8.5l.94-2.06 2.06-.94-2.06-.94L8.5 2.5l-.94 2.06-2.06.94zm10 10l.94 2.06.94-2.06 2.06-.94-2.06-.94-.94-2.06-.94 2.06-2.06.94z\"/><path d=\"M17.41 7.96l-1.37-1.37c-.4-.4-.92-.59-1.43-.59-.52 0-1.04.2-1.43.59L10.3 9.45l-7.72 7.72c-.78.78-.78 2.05 0 2.83L4 21.41c.39.39.9.59 1.41.59.51 0 1.02-.2 1.41-.59l7.78-7.78 2.81-2.81c.8-.78.8-2.07 0-2.86zM5.41 20L4 18.59l7.72-7.72 1.47 1.35L5.41 20z\"/>\n",
              "  </svg>\n",
              "      </button>\n",
              "      \n",
              "  <style>\n",
              "    .colab-df-container {\n",
              "      display:flex;\n",
              "      flex-wrap:wrap;\n",
              "      gap: 12px;\n",
              "    }\n",
              "\n",
              "    .colab-df-convert {\n",
              "      background-color: #E8F0FE;\n",
              "      border: none;\n",
              "      border-radius: 50%;\n",
              "      cursor: pointer;\n",
              "      display: none;\n",
              "      fill: #1967D2;\n",
              "      height: 32px;\n",
              "      padding: 0 0 0 0;\n",
              "      width: 32px;\n",
              "    }\n",
              "\n",
              "    .colab-df-convert:hover {\n",
              "      background-color: #E2EBFA;\n",
              "      box-shadow: 0px 1px 2px rgba(60, 64, 67, 0.3), 0px 1px 3px 1px rgba(60, 64, 67, 0.15);\n",
              "      fill: #174EA6;\n",
              "    }\n",
              "\n",
              "    [theme=dark] .colab-df-convert {\n",
              "      background-color: #3B4455;\n",
              "      fill: #D2E3FC;\n",
              "    }\n",
              "\n",
              "    [theme=dark] .colab-df-convert:hover {\n",
              "      background-color: #434B5C;\n",
              "      box-shadow: 0px 1px 3px 1px rgba(0, 0, 0, 0.15);\n",
              "      filter: drop-shadow(0px 1px 2px rgba(0, 0, 0, 0.3));\n",
              "      fill: #FFFFFF;\n",
              "    }\n",
              "  </style>\n",
              "\n",
              "      <script>\n",
              "        const buttonEl =\n",
              "          document.querySelector('#df-c9d9606f-6345-4cf6-9782-1a09c1b28086 button.colab-df-convert');\n",
              "        buttonEl.style.display =\n",
              "          google.colab.kernel.accessAllowed ? 'block' : 'none';\n",
              "\n",
              "        async function convertToInteractive(key) {\n",
              "          const element = document.querySelector('#df-c9d9606f-6345-4cf6-9782-1a09c1b28086');\n",
              "          const dataTable =\n",
              "            await google.colab.kernel.invokeFunction('convertToInteractive',\n",
              "                                                     [key], {});\n",
              "          if (!dataTable) return;\n",
              "\n",
              "          const docLinkHtml = 'Like what you see? Visit the ' +\n",
              "            '<a target=\"_blank\" href=https://colab.research.google.com/notebooks/data_table.ipynb>data table notebook</a>'\n",
              "            + ' to learn more about interactive tables.';\n",
              "          element.innerHTML = '';\n",
              "          dataTable['output_type'] = 'display_data';\n",
              "          await google.colab.output.renderOutput(dataTable, element);\n",
              "          const docLink = document.createElement('div');\n",
              "          docLink.innerHTML = docLinkHtml;\n",
              "          element.appendChild(docLink);\n",
              "        }\n",
              "      </script>\n",
              "    </div>\n",
              "  </div>\n",
              "  "
            ]
          },
          "metadata": {},
          "execution_count": 17
        }
      ]
    },
    {
      "cell_type": "markdown",
      "source": [
        "The data seems to be clean and well formatted the only issue is there are some missing values and that's it.\n",
        "\n",
        "Let's check the severity of the missing data problem"
      ],
      "metadata": {
        "id": "p_CqTikCKqqw"
      }
    },
    {
      "cell_type": "code",
      "source": [
        "# check how many missing values is there for each column as percentages\n",
        "(df.isna().sum() / df.shape[0]).sort_values(ascending=False)"
      ],
      "metadata": {
        "colab": {
          "base_uri": "https://localhost:8080/"
        },
        "id": "GhRA-57xK1vX",
        "outputId": "d3766a0c-68db-4bf4-e165-5f1e54c3dfe4"
      },
      "execution_count": 18,
      "outputs": [
        {
          "output_type": "execute_result",
          "data": {
            "text/plain": [
              "ExCoder10Years        0.982157\n",
              "ExCoderNotForMe       0.982079\n",
              "ExCoderWillNotCode    0.982059\n",
              "ExCoderBalance        0.982040\n",
              "ExCoderReturn         0.982040\n",
              "                        ...   \n",
              "EmploymentStatus      0.000000\n",
              "FormalEducation       0.000000\n",
              "Professional          0.000000\n",
              "ProgramHobby          0.000000\n",
              "Respondent            0.000000\n",
              "Length: 154, dtype: float64"
            ]
          },
          "metadata": {},
          "execution_count": 18
        }
      ]
    },
    {
      "cell_type": "code",
      "source": [
        "# average missing value\n",
        "(df.isna().sum() / df.shape[0]).sort_values(ascending=False).mean()"
      ],
      "metadata": {
        "colab": {
          "base_uri": "https://localhost:8080/"
        },
        "id": "b6P0_vohLwtm",
        "outputId": "6a43bd6c-0361-47c5-9f9c-a51182d9aa42"
      },
      "execution_count": 19,
      "outputs": [
        {
          "output_type": "execute_result",
          "data": {
            "text/plain": [
              "0.45322014341511535"
            ]
          },
          "metadata": {},
          "execution_count": 19
        }
      ]
    },
    {
      "cell_type": "markdown",
      "source": [
        "The data suffers from a lot of missing values, we will see if the columns has enough reponses to answer the questions"
      ],
      "metadata": {
        "id": "xD7W89VdL-2J"
      }
    },
    {
      "cell_type": "markdown",
      "source": [
        "# Section 3: Data Preperation"
      ],
      "metadata": {
        "id": "2eO3BooEMnoX"
      }
    },
    {
      "cell_type": "markdown",
      "source": [
        "### Selecting the columns of interest\n"
      ],
      "metadata": {
        "id": "xZ0VdBSjO2wW"
      }
    },
    {
      "cell_type": "markdown",
      "source": [
        "The following columns are enough to answer my questions:\n",
        "* Salary\n",
        "* DeveloperType\n",
        "* NonDeveloperType\n",
        "* SelfTaughtTypes\n",
        "* HaveWorkedLanguage"
      ],
      "metadata": {
        "id": "vK-njEJ6PeFD"
      }
    },
    {
      "cell_type": "code",
      "source": [
        "# selecting the columns\n",
        "columns_of_interest = [\n",
        "    'Salary',\n",
        "    'DeveloperType',\n",
        "    'NonDeveloperType',\n",
        "    'SelfTaughtTypes',\n",
        "    'HaveWorkedLanguage'\n",
        "]\n",
        "\n",
        "df_columns_of_interest = df.loc[:, columns_of_interest]\n",
        "df_columns_of_interest.head()"
      ],
      "metadata": {
        "colab": {
          "base_uri": "https://localhost:8080/",
          "height": 206
        },
        "id": "lfEuf_igPuzO",
        "outputId": "e1cbdef6-4364-4260-b061-1368fede3ba0"
      },
      "execution_count": 20,
      "outputs": [
        {
          "output_type": "execute_result",
          "data": {
            "text/plain": [
              "     Salary                                      DeveloperType  \\\n",
              "0       NaN                                                NaN   \n",
              "1       NaN                                                NaN   \n",
              "2  113750.0                                              Other   \n",
              "3       NaN                                                NaN   \n",
              "4       NaN  Mobile developer; Graphics programming; Deskto...   \n",
              "\n",
              "  NonDeveloperType                                    SelfTaughtTypes  \\\n",
              "0              NaN                                                NaN   \n",
              "1              NaN  Official documentation; Stack Overflow Q&A; Other   \n",
              "2              NaN  Official documentation; Trade book; Textbook; ...   \n",
              "3   Data scientist                                                NaN   \n",
              "4              NaN                                                NaN   \n",
              "\n",
              "              HaveWorkedLanguage  \n",
              "0                          Swift  \n",
              "1  JavaScript; Python; Ruby; SQL  \n",
              "2              Java; PHP; Python  \n",
              "3         Matlab; Python; R; SQL  \n",
              "4                            NaN  "
            ],
            "text/html": [
              "\n",
              "  <div id=\"df-0a8a1d83-1a8b-4a02-af69-ed3aac68e865\">\n",
              "    <div class=\"colab-df-container\">\n",
              "      <div>\n",
              "<style scoped>\n",
              "    .dataframe tbody tr th:only-of-type {\n",
              "        vertical-align: middle;\n",
              "    }\n",
              "\n",
              "    .dataframe tbody tr th {\n",
              "        vertical-align: top;\n",
              "    }\n",
              "\n",
              "    .dataframe thead th {\n",
              "        text-align: right;\n",
              "    }\n",
              "</style>\n",
              "<table border=\"1\" class=\"dataframe\">\n",
              "  <thead>\n",
              "    <tr style=\"text-align: right;\">\n",
              "      <th></th>\n",
              "      <th>Salary</th>\n",
              "      <th>DeveloperType</th>\n",
              "      <th>NonDeveloperType</th>\n",
              "      <th>SelfTaughtTypes</th>\n",
              "      <th>HaveWorkedLanguage</th>\n",
              "    </tr>\n",
              "  </thead>\n",
              "  <tbody>\n",
              "    <tr>\n",
              "      <th>0</th>\n",
              "      <td>NaN</td>\n",
              "      <td>NaN</td>\n",
              "      <td>NaN</td>\n",
              "      <td>NaN</td>\n",
              "      <td>Swift</td>\n",
              "    </tr>\n",
              "    <tr>\n",
              "      <th>1</th>\n",
              "      <td>NaN</td>\n",
              "      <td>NaN</td>\n",
              "      <td>NaN</td>\n",
              "      <td>Official documentation; Stack Overflow Q&amp;A; Other</td>\n",
              "      <td>JavaScript; Python; Ruby; SQL</td>\n",
              "    </tr>\n",
              "    <tr>\n",
              "      <th>2</th>\n",
              "      <td>113750.0</td>\n",
              "      <td>Other</td>\n",
              "      <td>NaN</td>\n",
              "      <td>Official documentation; Trade book; Textbook; ...</td>\n",
              "      <td>Java; PHP; Python</td>\n",
              "    </tr>\n",
              "    <tr>\n",
              "      <th>3</th>\n",
              "      <td>NaN</td>\n",
              "      <td>NaN</td>\n",
              "      <td>Data scientist</td>\n",
              "      <td>NaN</td>\n",
              "      <td>Matlab; Python; R; SQL</td>\n",
              "    </tr>\n",
              "    <tr>\n",
              "      <th>4</th>\n",
              "      <td>NaN</td>\n",
              "      <td>Mobile developer; Graphics programming; Deskto...</td>\n",
              "      <td>NaN</td>\n",
              "      <td>NaN</td>\n",
              "      <td>NaN</td>\n",
              "    </tr>\n",
              "  </tbody>\n",
              "</table>\n",
              "</div>\n",
              "      <button class=\"colab-df-convert\" onclick=\"convertToInteractive('df-0a8a1d83-1a8b-4a02-af69-ed3aac68e865')\"\n",
              "              title=\"Convert this dataframe to an interactive table.\"\n",
              "              style=\"display:none;\">\n",
              "        \n",
              "  <svg xmlns=\"http://www.w3.org/2000/svg\" height=\"24px\"viewBox=\"0 0 24 24\"\n",
              "       width=\"24px\">\n",
              "    <path d=\"M0 0h24v24H0V0z\" fill=\"none\"/>\n",
              "    <path d=\"M18.56 5.44l.94 2.06.94-2.06 2.06-.94-2.06-.94-.94-2.06-.94 2.06-2.06.94zm-11 1L8.5 8.5l.94-2.06 2.06-.94-2.06-.94L8.5 2.5l-.94 2.06-2.06.94zm10 10l.94 2.06.94-2.06 2.06-.94-2.06-.94-.94-2.06-.94 2.06-2.06.94z\"/><path d=\"M17.41 7.96l-1.37-1.37c-.4-.4-.92-.59-1.43-.59-.52 0-1.04.2-1.43.59L10.3 9.45l-7.72 7.72c-.78.78-.78 2.05 0 2.83L4 21.41c.39.39.9.59 1.41.59.51 0 1.02-.2 1.41-.59l7.78-7.78 2.81-2.81c.8-.78.8-2.07 0-2.86zM5.41 20L4 18.59l7.72-7.72 1.47 1.35L5.41 20z\"/>\n",
              "  </svg>\n",
              "      </button>\n",
              "      \n",
              "  <style>\n",
              "    .colab-df-container {\n",
              "      display:flex;\n",
              "      flex-wrap:wrap;\n",
              "      gap: 12px;\n",
              "    }\n",
              "\n",
              "    .colab-df-convert {\n",
              "      background-color: #E8F0FE;\n",
              "      border: none;\n",
              "      border-radius: 50%;\n",
              "      cursor: pointer;\n",
              "      display: none;\n",
              "      fill: #1967D2;\n",
              "      height: 32px;\n",
              "      padding: 0 0 0 0;\n",
              "      width: 32px;\n",
              "    }\n",
              "\n",
              "    .colab-df-convert:hover {\n",
              "      background-color: #E2EBFA;\n",
              "      box-shadow: 0px 1px 2px rgba(60, 64, 67, 0.3), 0px 1px 3px 1px rgba(60, 64, 67, 0.15);\n",
              "      fill: #174EA6;\n",
              "    }\n",
              "\n",
              "    [theme=dark] .colab-df-convert {\n",
              "      background-color: #3B4455;\n",
              "      fill: #D2E3FC;\n",
              "    }\n",
              "\n",
              "    [theme=dark] .colab-df-convert:hover {\n",
              "      background-color: #434B5C;\n",
              "      box-shadow: 0px 1px 3px 1px rgba(0, 0, 0, 0.15);\n",
              "      filter: drop-shadow(0px 1px 2px rgba(0, 0, 0, 0.3));\n",
              "      fill: #FFFFFF;\n",
              "    }\n",
              "  </style>\n",
              "\n",
              "      <script>\n",
              "        const buttonEl =\n",
              "          document.querySelector('#df-0a8a1d83-1a8b-4a02-af69-ed3aac68e865 button.colab-df-convert');\n",
              "        buttonEl.style.display =\n",
              "          google.colab.kernel.accessAllowed ? 'block' : 'none';\n",
              "\n",
              "        async function convertToInteractive(key) {\n",
              "          const element = document.querySelector('#df-0a8a1d83-1a8b-4a02-af69-ed3aac68e865');\n",
              "          const dataTable =\n",
              "            await google.colab.kernel.invokeFunction('convertToInteractive',\n",
              "                                                     [key], {});\n",
              "          if (!dataTable) return;\n",
              "\n",
              "          const docLinkHtml = 'Like what you see? Visit the ' +\n",
              "            '<a target=\"_blank\" href=https://colab.research.google.com/notebooks/data_table.ipynb>data table notebook</a>'\n",
              "            + ' to learn more about interactive tables.';\n",
              "          element.innerHTML = '';\n",
              "          dataTable['output_type'] = 'display_data';\n",
              "          await google.colab.output.renderOutput(dataTable, element);\n",
              "          const docLink = document.createElement('div');\n",
              "          docLink.innerHTML = docLinkHtml;\n",
              "          element.appendChild(docLink);\n",
              "        }\n",
              "      </script>\n",
              "    </div>\n",
              "  </div>\n",
              "  "
            ]
          },
          "metadata": {},
          "execution_count": 20
        }
      ]
    },
    {
      "cell_type": "markdown",
      "source": [
        "### Cleaning the data\n",
        "Let's check for the average missing data and pick the best approach"
      ],
      "metadata": {
        "id": "Ml1zBGGHQaW3"
      }
    },
    {
      "cell_type": "code",
      "source": [
        "# check how many observations are there for each column\n",
        "(df_columns_of_interest.shape[0] - df_columns_of_interest.isna().sum()).sort_values()"
      ],
      "metadata": {
        "colab": {
          "base_uri": "https://localhost:8080/"
        },
        "id": "9Katdxv7Qsq1",
        "outputId": "16f3002d-6d09-419d-edb5-96b82ddf3a67"
      },
      "execution_count": 21,
      "outputs": [
        {
          "output_type": "execute_result",
          "data": {
            "text/plain": [
              "NonDeveloperType       4890\n",
              "Salary                12891\n",
              "SelfTaughtTypes       26735\n",
              "DeveloperType         36125\n",
              "HaveWorkedLanguage    36625\n",
              "dtype: int64"
            ]
          },
          "metadata": {},
          "execution_count": 21
        }
      ]
    },
    {
      "cell_type": "markdown",
      "source": [
        "Since there is at least 5000 responses for the NonDeveloperType, that should suffice.\n",
        "Dropping the NaN values will be a good approach."
      ],
      "metadata": {
        "id": "2sClWRKhRkWJ"
      }
    },
    {
      "cell_type": "code",
      "source": [
        "df.dropna()"
      ],
      "metadata": {
        "colab": {
          "base_uri": "https://localhost:8080/",
          "height": 143
        },
        "id": "JmJYTitBdA27",
        "outputId": "a50af680-f1e0-44ef-f735-0552484f3ed7"
      },
      "execution_count": 22,
      "outputs": [
        {
          "output_type": "execute_result",
          "data": {
            "text/plain": [
              "Empty DataFrame\n",
              "Columns: [Respondent, Professional, ProgramHobby, Country, University, EmploymentStatus, FormalEducation, MajorUndergrad, HomeRemote, CompanySize, CompanyType, YearsProgram, YearsCodedJob, YearsCodedJobPast, DeveloperType, WebDeveloperType, MobileDeveloperType, NonDeveloperType, CareerSatisfaction, JobSatisfaction, ExCoderReturn, ExCoderNotForMe, ExCoderBalance, ExCoder10Years, ExCoderBelonged, ExCoderSkills, ExCoderWillNotCode, ExCoderActive, PronounceGIF, ProblemSolving, BuildingThings, LearningNewTech, BoringDetails, JobSecurity, DiversityImportant, AnnoyingUI, FriendsDevelopers, RightWrongWay, UnderstandComputers, SeriousWork, InvestTimeTools, WorkPayCare, KinshipDevelopers, ChallengeMyself, CompetePeers, ChangeWorld, JobSeekingStatus, HoursPerWeek, LastNewJob, AssessJobIndustry, AssessJobRole, AssessJobExp, AssessJobDept, AssessJobTech, AssessJobProjects, AssessJobCompensation, AssessJobOffice, AssessJobCommute, AssessJobRemote, AssessJobLeaders, AssessJobProfDevel, AssessJobDiversity, AssessJobProduct, AssessJobFinances, ImportantBenefits, ClickyKeys, JobProfile, ResumePrompted, LearnedHiring, ImportantHiringAlgorithms, ImportantHiringTechExp, ImportantHiringCommunication, ImportantHiringOpenSource, ImportantHiringPMExp, ImportantHiringCompanies, ImportantHiringTitles, ImportantHiringEducation, ImportantHiringRep, ImportantHiringGettingThingsDone, Currency, Overpaid, TabsSpaces, EducationImportant, EducationTypes, SelfTaughtTypes, TimeAfterBootcamp, CousinEducation, WorkStart, HaveWorkedLanguage, WantWorkLanguage, HaveWorkedFramework, WantWorkFramework, HaveWorkedDatabase, WantWorkDatabase, HaveWorkedPlatform, WantWorkPlatform, IDE, AuditoryEnvironment, Methodology, VersionControl, ...]\n",
              "Index: []\n",
              "\n",
              "[0 rows x 154 columns]"
            ],
            "text/html": [
              "\n",
              "  <div id=\"df-91608cc6-a1a1-45df-9521-b3c2c5ba43b9\">\n",
              "    <div class=\"colab-df-container\">\n",
              "      <div>\n",
              "<style scoped>\n",
              "    .dataframe tbody tr th:only-of-type {\n",
              "        vertical-align: middle;\n",
              "    }\n",
              "\n",
              "    .dataframe tbody tr th {\n",
              "        vertical-align: top;\n",
              "    }\n",
              "\n",
              "    .dataframe thead th {\n",
              "        text-align: right;\n",
              "    }\n",
              "</style>\n",
              "<table border=\"1\" class=\"dataframe\">\n",
              "  <thead>\n",
              "    <tr style=\"text-align: right;\">\n",
              "      <th></th>\n",
              "      <th>Respondent</th>\n",
              "      <th>Professional</th>\n",
              "      <th>ProgramHobby</th>\n",
              "      <th>Country</th>\n",
              "      <th>University</th>\n",
              "      <th>EmploymentStatus</th>\n",
              "      <th>FormalEducation</th>\n",
              "      <th>MajorUndergrad</th>\n",
              "      <th>HomeRemote</th>\n",
              "      <th>CompanySize</th>\n",
              "      <th>...</th>\n",
              "      <th>StackOverflowMakeMoney</th>\n",
              "      <th>Gender</th>\n",
              "      <th>HighestEducationParents</th>\n",
              "      <th>Race</th>\n",
              "      <th>SurveyLong</th>\n",
              "      <th>QuestionsInteresting</th>\n",
              "      <th>QuestionsConfusing</th>\n",
              "      <th>InterestedAnswers</th>\n",
              "      <th>Salary</th>\n",
              "      <th>ExpectedSalary</th>\n",
              "    </tr>\n",
              "  </thead>\n",
              "  <tbody>\n",
              "  </tbody>\n",
              "</table>\n",
              "<p>0 rows × 154 columns</p>\n",
              "</div>\n",
              "      <button class=\"colab-df-convert\" onclick=\"convertToInteractive('df-91608cc6-a1a1-45df-9521-b3c2c5ba43b9')\"\n",
              "              title=\"Convert this dataframe to an interactive table.\"\n",
              "              style=\"display:none;\">\n",
              "        \n",
              "  <svg xmlns=\"http://www.w3.org/2000/svg\" height=\"24px\"viewBox=\"0 0 24 24\"\n",
              "       width=\"24px\">\n",
              "    <path d=\"M0 0h24v24H0V0z\" fill=\"none\"/>\n",
              "    <path d=\"M18.56 5.44l.94 2.06.94-2.06 2.06-.94-2.06-.94-.94-2.06-.94 2.06-2.06.94zm-11 1L8.5 8.5l.94-2.06 2.06-.94-2.06-.94L8.5 2.5l-.94 2.06-2.06.94zm10 10l.94 2.06.94-2.06 2.06-.94-2.06-.94-.94-2.06-.94 2.06-2.06.94z\"/><path d=\"M17.41 7.96l-1.37-1.37c-.4-.4-.92-.59-1.43-.59-.52 0-1.04.2-1.43.59L10.3 9.45l-7.72 7.72c-.78.78-.78 2.05 0 2.83L4 21.41c.39.39.9.59 1.41.59.51 0 1.02-.2 1.41-.59l7.78-7.78 2.81-2.81c.8-.78.8-2.07 0-2.86zM5.41 20L4 18.59l7.72-7.72 1.47 1.35L5.41 20z\"/>\n",
              "  </svg>\n",
              "      </button>\n",
              "      \n",
              "  <style>\n",
              "    .colab-df-container {\n",
              "      display:flex;\n",
              "      flex-wrap:wrap;\n",
              "      gap: 12px;\n",
              "    }\n",
              "\n",
              "    .colab-df-convert {\n",
              "      background-color: #E8F0FE;\n",
              "      border: none;\n",
              "      border-radius: 50%;\n",
              "      cursor: pointer;\n",
              "      display: none;\n",
              "      fill: #1967D2;\n",
              "      height: 32px;\n",
              "      padding: 0 0 0 0;\n",
              "      width: 32px;\n",
              "    }\n",
              "\n",
              "    .colab-df-convert:hover {\n",
              "      background-color: #E2EBFA;\n",
              "      box-shadow: 0px 1px 2px rgba(60, 64, 67, 0.3), 0px 1px 3px 1px rgba(60, 64, 67, 0.15);\n",
              "      fill: #174EA6;\n",
              "    }\n",
              "\n",
              "    [theme=dark] .colab-df-convert {\n",
              "      background-color: #3B4455;\n",
              "      fill: #D2E3FC;\n",
              "    }\n",
              "\n",
              "    [theme=dark] .colab-df-convert:hover {\n",
              "      background-color: #434B5C;\n",
              "      box-shadow: 0px 1px 3px 1px rgba(0, 0, 0, 0.15);\n",
              "      filter: drop-shadow(0px 1px 2px rgba(0, 0, 0, 0.3));\n",
              "      fill: #FFFFFF;\n",
              "    }\n",
              "  </style>\n",
              "\n",
              "      <script>\n",
              "        const buttonEl =\n",
              "          document.querySelector('#df-91608cc6-a1a1-45df-9521-b3c2c5ba43b9 button.colab-df-convert');\n",
              "        buttonEl.style.display =\n",
              "          google.colab.kernel.accessAllowed ? 'block' : 'none';\n",
              "\n",
              "        async function convertToInteractive(key) {\n",
              "          const element = document.querySelector('#df-91608cc6-a1a1-45df-9521-b3c2c5ba43b9');\n",
              "          const dataTable =\n",
              "            await google.colab.kernel.invokeFunction('convertToInteractive',\n",
              "                                                     [key], {});\n",
              "          if (!dataTable) return;\n",
              "\n",
              "          const docLinkHtml = 'Like what you see? Visit the ' +\n",
              "            '<a target=\"_blank\" href=https://colab.research.google.com/notebooks/data_table.ipynb>data table notebook</a>'\n",
              "            + ' to learn more about interactive tables.';\n",
              "          element.innerHTML = '';\n",
              "          dataTable['output_type'] = 'display_data';\n",
              "          await google.colab.output.renderOutput(dataTable, element);\n",
              "          const docLink = document.createElement('div');\n",
              "          docLink.innerHTML = docLinkHtml;\n",
              "          element.appendChild(docLink);\n",
              "        }\n",
              "      </script>\n",
              "    </div>\n",
              "  </div>\n",
              "  "
            ]
          },
          "metadata": {},
          "execution_count": 22
        }
      ]
    },
    {
      "cell_type": "markdown",
      "source": [
        "Applying drop on the whole dataframe is really extreme, therefore I will apply drop na values while im analyzing a specific column, like the column below."
      ],
      "metadata": {
        "id": "Mos143amdGrJ"
      }
    },
    {
      "cell_type": "code",
      "source": [
        "df_columns_of_interest['NonDeveloperType'].dropna()"
      ],
      "metadata": {
        "colab": {
          "base_uri": "https://localhost:8080/"
        },
        "id": "ApIHIbxHbVMk",
        "outputId": "72be95a0-6e6b-417b-d222-3d0679153f2b"
      },
      "execution_count": 23,
      "outputs": [
        {
          "output_type": "execute_result",
          "data": {
            "text/plain": [
              "3                                Data scientist\n",
              "6                                Data scientist\n",
              "10                                        Other\n",
              "28           C-suite executive; Product manager\n",
              "29                                        Other\n",
              "                          ...                  \n",
              "51338    Product manager; Analyst or consultant\n",
              "51339                                     Other\n",
              "51342                                     Other\n",
              "51381                            Data scientist\n",
              "51391                                     Other\n",
              "Name: NonDeveloperType, Length: 4890, dtype: object"
            ]
          },
          "metadata": {},
          "execution_count": 23
        }
      ]
    },
    {
      "cell_type": "markdown",
      "source": [
        "# Section 4: Evaluation"
      ],
      "metadata": {
        "id": "g6XrbZz0R8U0"
      }
    },
    {
      "cell_type": "markdown",
      "source": [
        "### Question 1: What are the most used programming languages"
      ],
      "metadata": {
        "id": "0dp-udsQSMpm"
      }
    },
    {
      "cell_type": "markdown",
      "source": [
        "In order to answer my question of _what programming language should I learn next_ it's a good starting point to see what are the most popular programming languages according to the survey"
      ],
      "metadata": {
        "id": "FGHy-rU8d6_-"
      }
    },
    {
      "cell_type": "markdown",
      "source": [
        "### Analyze"
      ],
      "metadata": {
        "id": "3lEDFWr6SVA9"
      }
    },
    {
      "cell_type": "markdown",
      "source": [
        "Let's first sample the `HaveWorkedLanguage` column."
      ],
      "metadata": {
        "id": "CG0UEb4CbGMa"
      }
    },
    {
      "cell_type": "code",
      "source": [
        "df_columns_of_interest['NonDeveloperType'].dropna().head(5)"
      ],
      "metadata": {
        "colab": {
          "base_uri": "https://localhost:8080/"
        },
        "id": "yENrmKHAbMXR",
        "outputId": "77a0653e-618c-4d3b-8d18-d70a36c9eeab"
      },
      "execution_count": 24,
      "outputs": [
        {
          "output_type": "execute_result",
          "data": {
            "text/plain": [
              "3                         Data scientist\n",
              "6                         Data scientist\n",
              "10                                 Other\n",
              "28    C-suite executive; Product manager\n",
              "29                                 Other\n",
              "Name: NonDeveloperType, dtype: object"
            ]
          },
          "metadata": {},
          "execution_count": 24
        }
      ]
    },
    {
      "cell_type": "markdown",
      "source": [
        "We can see some jobs are delimited with a semi-colon so we can't use `value_counts` in order to obtain my answer.\n",
        "\n",
        "We are going to use a more manual approach to the processing."
      ],
      "metadata": {
        "id": "DC6iQV1FdqF3"
      }
    },
    {
      "cell_type": "code",
      "source": [
        "# import the Counter object\n",
        "from collections import Counter\n",
        "language_counter = Counter()\n",
        "\n",
        "no_nan_languages = df_columns_of_interest['HaveWorkedLanguage'].dropna() # drop NaN values\n",
        "no_nan_languages.apply(lambda col: language_counter.update(col.split(';'))) # split the value with the delimiter\n",
        "\n",
        "# print results\n",
        "for language, count in language_counter.most_common(5):\n",
        "  print(f'{language}:\\n {count}\\n')"
      ],
      "metadata": {
        "colab": {
          "base_uri": "https://localhost:8080/"
        },
        "id": "w1Xa-CFVf_Sq",
        "outputId": "23974230-5b6c-4683-9a31-dbeefa6db8f8"
      },
      "execution_count": 25,
      "outputs": [
        {
          "output_type": "stream",
          "name": "stdout",
          "text": [
            " SQL:\n",
            " 18466\n",
            "\n",
            " JavaScript:\n",
            " 17159\n",
            "\n",
            " Python:\n",
            " 10719\n",
            "\n",
            " PHP:\n",
            " 9765\n",
            "\n",
            " Java:\n",
            " 8622\n",
            "\n"
          ]
        }
      ]
    },
    {
      "cell_type": "markdown",
      "source": [
        "### Visualize"
      ],
      "metadata": {
        "id": "wZ06yfmvgn_y"
      }
    },
    {
      "cell_type": "code",
      "source": [
        "# make a dataframe for plotting\n",
        "df_top_languages = pd.DataFrame(language_counter.most_common(5), columns=['Language', 'Frequency'])\n",
        "df_top_languages = df_top_languages.set_index('Language')\n",
        "df_top_languages.head()"
      ],
      "metadata": {
        "colab": {
          "base_uri": "https://localhost:8080/",
          "height": 237
        },
        "id": "P4XqZ_5HglER",
        "outputId": "5987735a-5f8f-4efd-b206-80be6a31c285"
      },
      "execution_count": 26,
      "outputs": [
        {
          "output_type": "execute_result",
          "data": {
            "text/plain": [
              "             Frequency\n",
              "Language              \n",
              " SQL             18466\n",
              " JavaScript      17159\n",
              " Python          10719\n",
              " PHP              9765\n",
              " Java             8622"
            ],
            "text/html": [
              "\n",
              "  <div id=\"df-d4523b74-155b-483c-b568-033369fd6a7a\">\n",
              "    <div class=\"colab-df-container\">\n",
              "      <div>\n",
              "<style scoped>\n",
              "    .dataframe tbody tr th:only-of-type {\n",
              "        vertical-align: middle;\n",
              "    }\n",
              "\n",
              "    .dataframe tbody tr th {\n",
              "        vertical-align: top;\n",
              "    }\n",
              "\n",
              "    .dataframe thead th {\n",
              "        text-align: right;\n",
              "    }\n",
              "</style>\n",
              "<table border=\"1\" class=\"dataframe\">\n",
              "  <thead>\n",
              "    <tr style=\"text-align: right;\">\n",
              "      <th></th>\n",
              "      <th>Frequency</th>\n",
              "    </tr>\n",
              "    <tr>\n",
              "      <th>Language</th>\n",
              "      <th></th>\n",
              "    </tr>\n",
              "  </thead>\n",
              "  <tbody>\n",
              "    <tr>\n",
              "      <th>SQL</th>\n",
              "      <td>18466</td>\n",
              "    </tr>\n",
              "    <tr>\n",
              "      <th>JavaScript</th>\n",
              "      <td>17159</td>\n",
              "    </tr>\n",
              "    <tr>\n",
              "      <th>Python</th>\n",
              "      <td>10719</td>\n",
              "    </tr>\n",
              "    <tr>\n",
              "      <th>PHP</th>\n",
              "      <td>9765</td>\n",
              "    </tr>\n",
              "    <tr>\n",
              "      <th>Java</th>\n",
              "      <td>8622</td>\n",
              "    </tr>\n",
              "  </tbody>\n",
              "</table>\n",
              "</div>\n",
              "      <button class=\"colab-df-convert\" onclick=\"convertToInteractive('df-d4523b74-155b-483c-b568-033369fd6a7a')\"\n",
              "              title=\"Convert this dataframe to an interactive table.\"\n",
              "              style=\"display:none;\">\n",
              "        \n",
              "  <svg xmlns=\"http://www.w3.org/2000/svg\" height=\"24px\"viewBox=\"0 0 24 24\"\n",
              "       width=\"24px\">\n",
              "    <path d=\"M0 0h24v24H0V0z\" fill=\"none\"/>\n",
              "    <path d=\"M18.56 5.44l.94 2.06.94-2.06 2.06-.94-2.06-.94-.94-2.06-.94 2.06-2.06.94zm-11 1L8.5 8.5l.94-2.06 2.06-.94-2.06-.94L8.5 2.5l-.94 2.06-2.06.94zm10 10l.94 2.06.94-2.06 2.06-.94-2.06-.94-.94-2.06-.94 2.06-2.06.94z\"/><path d=\"M17.41 7.96l-1.37-1.37c-.4-.4-.92-.59-1.43-.59-.52 0-1.04.2-1.43.59L10.3 9.45l-7.72 7.72c-.78.78-.78 2.05 0 2.83L4 21.41c.39.39.9.59 1.41.59.51 0 1.02-.2 1.41-.59l7.78-7.78 2.81-2.81c.8-.78.8-2.07 0-2.86zM5.41 20L4 18.59l7.72-7.72 1.47 1.35L5.41 20z\"/>\n",
              "  </svg>\n",
              "      </button>\n",
              "      \n",
              "  <style>\n",
              "    .colab-df-container {\n",
              "      display:flex;\n",
              "      flex-wrap:wrap;\n",
              "      gap: 12px;\n",
              "    }\n",
              "\n",
              "    .colab-df-convert {\n",
              "      background-color: #E8F0FE;\n",
              "      border: none;\n",
              "      border-radius: 50%;\n",
              "      cursor: pointer;\n",
              "      display: none;\n",
              "      fill: #1967D2;\n",
              "      height: 32px;\n",
              "      padding: 0 0 0 0;\n",
              "      width: 32px;\n",
              "    }\n",
              "\n",
              "    .colab-df-convert:hover {\n",
              "      background-color: #E2EBFA;\n",
              "      box-shadow: 0px 1px 2px rgba(60, 64, 67, 0.3), 0px 1px 3px 1px rgba(60, 64, 67, 0.15);\n",
              "      fill: #174EA6;\n",
              "    }\n",
              "\n",
              "    [theme=dark] .colab-df-convert {\n",
              "      background-color: #3B4455;\n",
              "      fill: #D2E3FC;\n",
              "    }\n",
              "\n",
              "    [theme=dark] .colab-df-convert:hover {\n",
              "      background-color: #434B5C;\n",
              "      box-shadow: 0px 1px 3px 1px rgba(0, 0, 0, 0.15);\n",
              "      filter: drop-shadow(0px 1px 2px rgba(0, 0, 0, 0.3));\n",
              "      fill: #FFFFFF;\n",
              "    }\n",
              "  </style>\n",
              "\n",
              "      <script>\n",
              "        const buttonEl =\n",
              "          document.querySelector('#df-d4523b74-155b-483c-b568-033369fd6a7a button.colab-df-convert');\n",
              "        buttonEl.style.display =\n",
              "          google.colab.kernel.accessAllowed ? 'block' : 'none';\n",
              "\n",
              "        async function convertToInteractive(key) {\n",
              "          const element = document.querySelector('#df-d4523b74-155b-483c-b568-033369fd6a7a');\n",
              "          const dataTable =\n",
              "            await google.colab.kernel.invokeFunction('convertToInteractive',\n",
              "                                                     [key], {});\n",
              "          if (!dataTable) return;\n",
              "\n",
              "          const docLinkHtml = 'Like what you see? Visit the ' +\n",
              "            '<a target=\"_blank\" href=https://colab.research.google.com/notebooks/data_table.ipynb>data table notebook</a>'\n",
              "            + ' to learn more about interactive tables.';\n",
              "          element.innerHTML = '';\n",
              "          dataTable['output_type'] = 'display_data';\n",
              "          await google.colab.output.renderOutput(dataTable, element);\n",
              "          const docLink = document.createElement('div');\n",
              "          docLink.innerHTML = docLinkHtml;\n",
              "          element.appendChild(docLink);\n",
              "        }\n",
              "      </script>\n",
              "    </div>\n",
              "  </div>\n",
              "  "
            ]
          },
          "metadata": {},
          "execution_count": 26
        }
      ]
    },
    {
      "cell_type": "code",
      "source": [
        "# plot using pandas in built plot method\n",
        "df_top_languages.plot(kind='pie', y='Frequency', figsize=(12, 9), autopct='%1.1f%%')\n",
        "plt.title('Most used languages')\n",
        "plt.ylabel(None)\n",
        "plt.savefig('pie_chart.png')\n",
        "plt.show()"
      ],
      "metadata": {
        "colab": {
          "base_uri": "https://localhost:8080/",
          "height": 536
        },
        "id": "4LLH5oUWhmD_",
        "outputId": "5c889bc3-cb0a-4edf-b80c-96618b13c199"
      },
      "execution_count": 27,
      "outputs": [
        {
          "output_type": "display_data",
          "data": {
            "text/plain": [
              "<Figure size 864x648 with 1 Axes>"
            ],
            "image/png": "[encoded data removed]"
          },
          "metadata": {}
        }
      ]
    },
    {
      "cell_type": "markdown",
      "source": [
        "### Explanation"
      ],
      "metadata": {
        "id": "848VrPQIgspL"
      }
    },
    {
      "cell_type": "markdown",
      "source": [
        "From the pie chart we interestingly see that SQL was the most used language according to the survey, the answer could be be that SQL is the primary language for handling databases therefore it's the most used language.\n",
        "\n",
        "databases and website come together as a pair so it would make sense for javascript to come second.\n",
        "\n",
        "Python is a general purpose language more than java so it make sense to see it more used.\n",
        "\n",
        "JS, PY, SQL can be intially a good choice but we need to expand more on this answer."
      ],
      "metadata": {
        "id": "J7eUwHcrcKb9"
      }
    },
    {
      "cell_type": "markdown",
      "source": [
        "## Question 2: What is the average pay for each of these Languages?"
      ],
      "metadata": {
        "id": "A50d1OjAghyx"
      }
    },
    {
      "cell_type": "markdown",
      "source": [
        "After knowing what are the most used programming languages according to my objective measure now its time to calculate the average pay for these languages."
      ],
      "metadata": {
        "id": "psNgYBtre5ja"
      }
    },
    {
      "cell_type": "markdown",
      "source": [
        "### Analyze"
      ],
      "metadata": {
        "id": "wy9drV0ghHCg"
      }
    },
    {
      "cell_type": "code",
      "source": [
        "lang_list = [x[0].strip() for x in language_counter.most_common(5)] # remove whitespaces from the languages\n",
        "                                                                    # since it interferes with the result.\n",
        "temp_list = [] # list for appending names of the top most used langauges\n",
        "for language in lang_list: # make a dict for constructing a dataframe\n",
        "  temp_list.append(\n",
        "      {\n",
        "          'language': language,\n",
        "          'average_salary': df_columns_of_interest.query('@language in HaveWorkedLanguage')['Salary'].mean()\n",
        "      }\n",
        "  )\n",
        "df_average_salary = pd.DataFrame(temp_list) # dataframe for plotting\n",
        "\n",
        "df_average_salary = df_average_salary.set_index('language') # set index for easier plotting"
      ],
      "metadata": {
        "id": "zbhXLcpeiuBj"
      },
      "execution_count": 28,
      "outputs": []
    },
    {
      "cell_type": "markdown",
      "source": [
        "### Visualize"
      ],
      "metadata": {
        "id": "Txt0SJXJh0fV"
      }
    },
    {
      "cell_type": "code",
      "source": [
        "# build plot and clean it\n",
        "df_average_salary.sort_values('average_salary', ascending=False).plot(kind='bar', figsize=(12, 9), color=['grey'])\n",
        "plt.xticks(rotation=45)\n",
        "plt.title('The average pay for each language')\n",
        "plt.legend(['Average Salary'])\n",
        "plt.savefig('bar_chart')\n",
        "plt.show()"
      ],
      "metadata": {
        "colab": {
          "base_uri": "https://localhost:8080/",
          "height": 599
        },
        "id": "e6zI83RHmE89",
        "outputId": "43182ab0-cc07-4cc3-c27b-ebf7fce1aa05"
      },
      "execution_count": 29,
      "outputs": [
        {
          "output_type": "display_data",
          "data": {
            "text/plain": [
              "<Figure size 864x648 with 1 Axes>"
            ],
            "image/png": "[encoded data removed]"
          },
          "metadata": {
            "needs_background": "light"
          }
        }
      ]
    },
    {
      "cell_type": "markdown",
      "source": [
        "### Explanation"
      ],
      "metadata": {
        "id": "1bkUeZEciDmr"
      }
    },
    {
      "cell_type": "markdown",
      "source": [
        "SQL is still leading in the average salary because of the importance of databases, but python came out on top of javascript because it has more use cases, javascript is prodominantly used in web development. "
      ],
      "metadata": {
        "id": "DQwU0iU2iNY7"
      }
    },
    {
      "cell_type": "markdown",
      "source": [
        "## Question 3: What jobs can I land using some of these programming languages"
      ],
      "metadata": {
        "id": "VMaBq06h3VSN"
      }
    },
    {
      "cell_type": "markdown",
      "source": [
        "Knowing what jobs what I can land it helps knowing what programming language should I pick next but this has to consequences, first is that this is subjective, second it requires exploration of what each job is."
      ],
      "metadata": {
        "id": "eGzaT9hMfcAu"
      }
    },
    {
      "cell_type": "markdown",
      "source": [
        "### Analyze"
      ],
      "metadata": {
        "id": "9w2fAIUr3izk"
      }
    },
    {
      "cell_type": "markdown",
      "source": [
        "I will use a similar approach that's used in the first question, in the next two questions because all of them have the same idea of displaying the top answers"
      ],
      "metadata": {
        "id": "g7sDCsFaZfVE"
      }
    },
    {
      "cell_type": "code",
      "source": [
        "job_counter = Counter() # counter object to count the jobs\n",
        "\n",
        "lang = 'SQL'\n",
        "df_sql_users = df_columns_of_interest.query('@lang in HaveWorkedLanguage') # fetch only the SQL rows\n",
        "\n",
        "no_nan_devtype = df_sql_users['DeveloperType'].dropna() \n",
        "no_nan_nondevtype = df_sql_users['NonDeveloperType'].dropna()\n",
        "\n",
        "no_nan_devtype.apply(lambda col: job_counter.update(col.split(';'))) # split by ';' and add to counter\n",
        "no_nan_nondevtype.apply(lambda col: job_counter.update(col.split(';'))) # split by ';' and add to counter\n",
        "\n",
        "sql_job_list = [job[0] for job in job_counter.most_common(5)] # a comprehension list to fetch the job something like this ['job1', 'job2' ...]"
      ],
      "metadata": {
        "id": "JZ0vfE164uwv"
      },
      "execution_count": 30,
      "outputs": []
    },
    {
      "cell_type": "code",
      "source": [
        "job_counter = Counter() # same but for python\n",
        "\n",
        "lang = 'Python'\n",
        "df_python_users = df_columns_of_interest.query('@lang in HaveWorkedLanguage')\n",
        "\n",
        "no_nan_devtype = df_python_users['DeveloperType'].dropna()\n",
        "no_nan_nondevtype = df_python_users['NonDeveloperType'].dropna()\n",
        "\n",
        "no_nan_devtype.apply(lambda col: job_counter.update(col.split(';')))\n",
        "no_nan_nondevtype.apply(lambda col: job_counter.update(col.split(';')))\n",
        "\n",
        "py_job_list = [job[0] for job in job_counter.most_common(5)]"
      ],
      "metadata": {
        "id": "g--_flqQ3m_A"
      },
      "execution_count": 31,
      "outputs": []
    },
    {
      "cell_type": "code",
      "source": [
        "job_counter = Counter() # same but for javascript\n",
        "\n",
        "lang = 'JavaScript'\n",
        "df_javascript_users = df_columns_of_interest.query('@lang in HaveWorkedLanguage')\n",
        "\n",
        "no_nan_devtype = df_javascript_users['DeveloperType'].dropna()\n",
        "no_nan_nondevtype = df_javascript_users['NonDeveloperType'].dropna()\n",
        "\n",
        "no_nan_devtype.apply(lambda col: job_counter.update(col.split(';')))\n",
        "no_nan_nondevtype.apply(lambda col: job_counter.update(col.split(';')))\n",
        "\n",
        "js_job_list = [job[0] for job in job_counter.most_common(5)]"
      ],
      "metadata": {
        "id": "8W0eDZQy30UW"
      },
      "execution_count": 32,
      "outputs": []
    },
    {
      "cell_type": "markdown",
      "source": [
        "### Visualize"
      ],
      "metadata": {
        "id": "nB7Mlmmi3vSp"
      }
    },
    {
      "cell_type": "code",
      "source": [
        "# clean the strings, format them and display the top jobs for each programming language.\n",
        "job_lists = [(sql_job_list, 'SQL'), (py_job_list, 'Python'), (js_job_list, 'JavaScript')]\n",
        "for job_list, language in job_lists:\n",
        "  print(f'{language}:')\n",
        "  for job in job_list:\n",
        "    if job.split(' ')[0] == 'Other':\n",
        "      pass\n",
        "    else:\n",
        "      print('  '+job.strip())\n",
        "  print()"
      ],
      "metadata": {
        "colab": {
          "base_uri": "https://localhost:8080/"
        },
        "id": "M_uAsuNh3xz1",
        "outputId": "b7dcfc5b-11cb-4b08-beb4-1a6d5c80c7fe"
      },
      "execution_count": 33,
      "outputs": [
        {
          "output_type": "stream",
          "name": "stdout",
          "text": [
            "SQL:\n",
            "  Database administrator\n",
            "  Desktop applications developer\n",
            "  Desktop applications developer\n",
            "  Analyst or consultant\n",
            "\n",
            "Python:\n",
            "  Web developer\n",
            "  Analyst or consultant\n",
            "  Data scientist\n",
            "  DevOps specialist\n",
            "\n",
            "JavaScript:\n",
            "  Web developer\n",
            "  Mobile developer\n",
            "  Graphic designer\n",
            "  Desktop applications developer\n",
            "  DevOps specialist\n",
            "\n"
          ]
        }
      ]
    },
    {
      "cell_type": "markdown",
      "source": [
        "### Explanation"
      ],
      "metadata": {
        "id": "bOSzEpBy543Q"
      }
    },
    {
      "cell_type": "markdown",
      "source": [
        "Interestingly enough, we can see that there is an intersection between the languages this suggests that we might need to learn multiple languages to land a job, The jobs where 2 languages intersect seem like an interesting choice.\n",
        "\n",
        "Speaking of learning"
      ],
      "metadata": {
        "id": "0eQiuTFk9ji9"
      }
    },
    {
      "cell_type": "markdown",
      "source": [
        "## Question 4: How can you learn one of these programming languages?"
      ],
      "metadata": {
        "id": "QmkpQ2Q3992o"
      }
    },
    {
      "cell_type": "markdown",
      "source": [
        "After knowing the knowing the language according the job I picked, how can I learn this language? what is the best way to do so?"
      ],
      "metadata": {
        "id": "fe15ysZHfuIT"
      }
    },
    {
      "cell_type": "markdown",
      "source": [
        "### Analyze"
      ],
      "metadata": {
        "id": "aVbHGLykVph7"
      }
    },
    {
      "cell_type": "code",
      "source": [
        "resource_counter = Counter() # the same process is applied here for finding the top used resources for learning a language\n",
        "\n",
        "lang = 'SQL' # select the language\n",
        "df_sql_users = df_columns_of_interest.query('@lang in HaveWorkedLanguage') # fetch the SQL rows\n",
        "\n",
        "no_nan_resource = df_sql_users['SelfTaughtTypes'].dropna() # dropna for counting\n",
        "no_nan_resource.apply(lambda col: resource_counter.update(col.split(';'))) # count each response and add it to counter\n",
        "\n",
        "sql_resource_list = [resource[0] for resource in resource_counter.most_common(5)] # comprehension list for resources something like this ['resource1', 'resource2', ...]"
      ],
      "metadata": {
        "id": "I0qseoUZ2NXx"
      },
      "execution_count": 34,
      "outputs": []
    },
    {
      "cell_type": "code",
      "source": [
        "resource_counter = Counter()\n",
        "\n",
        "lang = 'Python'\n",
        "df_python_users = df_columns_of_interest.query('@lang in HaveWorkedLanguage')\n",
        "\n",
        "no_nan_resource = df_python_users['SelfTaughtTypes'].dropna()\n",
        "no_nan_resource.apply(lambda col: resource_counter.update(col.split(';')))\n",
        "\n",
        "py_resource_list = [resource[0] for resource in resource_counter.most_common(5)]"
      ],
      "metadata": {
        "id": "nihPuH9o4cWB"
      },
      "execution_count": 35,
      "outputs": []
    },
    {
      "cell_type": "code",
      "source": [
        "resource_counter = Counter()\n",
        "\n",
        "lang = 'JavaScript'\n",
        "df_javascript_users = df_columns_of_interest.query('@lang in HaveWorkedLanguage')\n",
        "\n",
        "no_nan_resource = df_javascript_users['SelfTaughtTypes'].dropna()\n",
        "no_nan_resource.apply(lambda col: resource_counter.update(col.split(';')))\n",
        "\n",
        "js_resource_list = [resource[0] for resource in resource_counter.most_common(5)]"
      ],
      "metadata": {
        "id": "stg6LnmK4o-p"
      },
      "execution_count": 36,
      "outputs": []
    },
    {
      "cell_type": "markdown",
      "source": [
        "### Visualize"
      ],
      "metadata": {
        "id": "yMTv98SAVr7t"
      }
    },
    {
      "cell_type": "code",
      "source": [
        "# clean the strings, format them and display the top used resources.\n",
        "resource_lists = [(sql_resource_list, 'SQL'), (py_resource_list, 'Python'), (js_resource_list, 'JavaScript')]\n",
        "for resource_list, language in resource_lists:\n",
        "  print(f'{language}:')\n",
        "  for resource in resource_list:\n",
        "    if resource.split(' ')[0] == 'Other':\n",
        "      pass\n",
        "    else:\n",
        "      print('  '+resource.strip())\n",
        "  print()\n"
      ],
      "metadata": {
        "colab": {
          "base_uri": "https://localhost:8080/"
        },
        "id": "N68jEdwA2YGW",
        "outputId": "3a3df396-fdaa-4ed0-ec21-1959417fa02d"
      },
      "execution_count": 37,
      "outputs": [
        {
          "output_type": "stream",
          "name": "stdout",
          "text": [
            "SQL:\n",
            "  Official documentation\n",
            "  Stack Overflow Q&A\n",
            "  Built-in help\n",
            "  Non-Stack online communities\n",
            "  Trade book\n",
            "\n",
            "Python:\n",
            "  Official documentation\n",
            "  Stack Overflow Q&A\n",
            "  Built-in help\n",
            "  Trade book\n",
            "  Non-Stack online communities\n",
            "\n",
            "JavaScript:\n",
            "  Official documentation\n",
            "  Stack Overflow Q&A\n",
            "  Non-Stack online communities\n",
            "  Built-in help\n",
            "  Trade book\n",
            "\n"
          ]
        }
      ]
    },
    {
      "cell_type": "markdown",
      "source": [
        "### Analyze"
      ],
      "metadata": {
        "id": "ZjeAR3c2YUGq"
      }
    },
    {
      "cell_type": "markdown",
      "source": [
        "We can see that accross many languages some resources occur more than once, therefore a good choice for a learning source things like:\n",
        "* Official Documentation\n",
        "* Stack Overflow Q&A\n",
        "* Non-Stack online communities "
      ],
      "metadata": {
        "id": "_4Tb3zWA_k3-"
      }
    },
    {
      "cell_type": "markdown",
      "source": [
        "In conclusion, after going through the analysis picking the next language should be one of the top 3 languages.\n",
        "\n",
        "A post with the summary of the results:\n",
        "\n",
        "https://medium.com/@abdulaziz.i.j/looking-for-a-new-programming-language-to-learn-7291b2dff9d"
      ],
      "metadata": {
        "id": "1C5j41AxX1hj"
      }
    }
  ],
  "metadata": {
    "colab": {
      "provenance": [],
      "authorship_tag": "ABX9TyMlLo8vkaehPe8/vXL/fT0D",
      "include_colab_link": true
    },
    "kernelspec": {
      "display_name": "Python 3",
      "name": "python3"
    },
    "language_info": {
      "name": "python"
    }
  },
  "nbformat": 4,
  "nbformat_minor": 0
}