{
  "cells": [
    {
      "cell_type": "code",
      "execution_count": 28,
      "metadata": {
        "id": "a8tdu8CdRwUV"
      },
      "outputs": [],
      "source": [
        "# import zipfile for extracting csv files\n",
        "path = 'survey.zip' # use this if zipfile is on the same folder\n",
        "from zipfile import ZipFile\n",
        "with ZipFile(path, 'r') as zip_object:\n",
        "  zip_object.extractall()\n",
        "  zip_object.close()"
      ]
    },
    {
      "cell_type": "code",
      "execution_count": 29,
      "metadata": {
        "id": "j5ZdpY3uR1In"
      },
      "outputs": [],
      "source": [
        "# import libraries\n",
        "import numpy as np\n",
        "import pandas as pd\n",
        "import matplotlib.pyplot as plt\n",
        "%matplotlib inline"
      ]
    },
    {
      "cell_type": "code",
      "execution_count": 30,
      "metadata": {
        "colab": {
          "base_uri": "https://localhost:8080/",
          "height": 595
        },
        "id": "u-7PJUIsTJSn",
        "outputId": "732a9261-514b-4e67-b631-b6011841acf5"
      },
      "outputs": [
        {
          "output_type": "execute_result",
          "data": {
            "text/plain": [
              "   Respondent                                       Professional  \\\n",
              "0           1                                            Student   \n",
              "1           2                                            Student   \n",
              "2           3                             Professional developer   \n",
              "3           4  Professional non-developer who sometimes write...   \n",
              "4           5                             Professional developer   \n",
              "\n",
              "                ProgramHobby         Country      University  \\\n",
              "0                  Yes, both   United States              No   \n",
              "1                  Yes, both  United Kingdom  Yes, full-time   \n",
              "2                  Yes, both  United Kingdom              No   \n",
              "3                  Yes, both   United States              No   \n",
              "4  Yes, I program as a hobby     Switzerland              No   \n",
              "\n",
              "                         EmploymentStatus  \\\n",
              "0  Not employed, and not looking for work   \n",
              "1                      Employed part-time   \n",
              "2                      Employed full-time   \n",
              "3                      Employed full-time   \n",
              "4                      Employed full-time   \n",
              "\n",
              "                                     FormalEducation  \\\n",
              "0                                   Secondary school   \n",
              "1  Some college/university study without earning ...   \n",
              "2                                  Bachelor's degree   \n",
              "3                                    Doctoral degree   \n",
              "4                                    Master's degree   \n",
              "\n",
              "                                  MajorUndergrad  \\\n",
              "0                                            NaN   \n",
              "1       Computer science or software engineering   \n",
              "2       Computer science or software engineering   \n",
              "3  A non-computer-focused engineering discipline   \n",
              "4       Computer science or software engineering   \n",
              "\n",
              "                                          HomeRemote  \\\n",
              "0                                                NaN   \n",
              "1              More than half, but not all, the time   \n",
              "2  Less than half the time, but at least one day ...   \n",
              "3  Less than half the time, but at least one day ...   \n",
              "4                                              Never   \n",
              "\n",
              "                CompanySize  ... StackOverflowMakeMoney Gender  \\\n",
              "0                       NaN  ...      Strongly disagree   Male   \n",
              "1        20 to 99 employees  ...      Strongly disagree   Male   \n",
              "2  10,000 or more employees  ...               Disagree   Male   \n",
              "3  10,000 or more employees  ...               Disagree   Male   \n",
              "4        10 to 19 employees  ...                    NaN    NaN   \n",
              "\n",
              "  HighestEducationParents                          Race         SurveyLong  \\\n",
              "0             High school  White or of European descent  Strongly disagree   \n",
              "1       A master's degree  White or of European descent     Somewhat agree   \n",
              "2   A professional degree  White or of European descent     Somewhat agree   \n",
              "3       A doctoral degree  White or of European descent              Agree   \n",
              "4                     NaN                           NaN                NaN   \n",
              "\n",
              "  QuestionsInteresting QuestionsConfusing InterestedAnswers    Salary  \\\n",
              "0       Strongly agree           Disagree    Strongly agree       NaN   \n",
              "1       Somewhat agree           Disagree    Strongly agree       NaN   \n",
              "2                Agree           Disagree             Agree  113750.0   \n",
              "3                Agree     Somewhat agree    Strongly agree       NaN   \n",
              "4                  NaN                NaN               NaN       NaN   \n",
              "\n",
              "   ExpectedSalary  \n",
              "0             NaN  \n",
              "1         37500.0  \n",
              "2             NaN  \n",
              "3             NaN  \n",
              "4             NaN  \n",
              "\n",
              "[5 rows x 154 columns]"
            ],
            "text/html": [
              "\n",
              "  <div id=\"df-d62445c7-f037-4cb5-934c-8ce3762d5114\">\n",
              "    <div class=\"colab-df-container\">\n",
              "      <div>\n",
              "<style scoped>\n",
              "    .dataframe tbody tr th:only-of-type {\n",
              "        vertical-align: middle;\n",
              "    }\n",
              "\n",
              "    .dataframe tbody tr th {\n",
              "        vertical-align: top;\n",
              "    }\n",
              "\n",
              "    .dataframe thead th {\n",
              "        text-align: right;\n",
              "    }\n",
              "</style>\n",
              "<table border=\"1\" class=\"dataframe\">\n",
              "  <thead>\n",
              "    <tr style=\"text-align: right;\">\n",
              "      <th></th>\n",
              "      <th>Respondent</th>\n",
              "      <th>Professional</th>\n",
              "      <th>ProgramHobby</th>\n",
              "      <th>Country</th>\n",
              "      <th>University</th>\n",
              "      <th>EmploymentStatus</th>\n",
              "      <th>FormalEducation</th>\n",
              "      <th>MajorUndergrad</th>\n",
              "      <th>HomeRemote</th>\n",
              "      <th>CompanySize</th>\n",
              "      <th>...</th>\n",
              "      <th>StackOverflowMakeMoney</th>\n",
              "      <th>Gender</th>\n",
              "      <th>HighestEducationParents</th>\n",
              "      <th>Race</th>\n",
              "      <th>SurveyLong</th>\n",
              "      <th>QuestionsInteresting</th>\n",
              "      <th>QuestionsConfusing</th>\n",
              "      <th>InterestedAnswers</th>\n",
              "      <th>Salary</th>\n",
              "      <th>ExpectedSalary</th>\n",
              "    </tr>\n",
              "  </thead>\n",
              "  <tbody>\n",
              "    <tr>\n",
              "      <th>0</th>\n",
              "      <td>1</td>\n",
              "      <td>Student</td>\n",
              "      <td>Yes, both</td>\n",
              "      <td>United States</td>\n",
              "      <td>No</td>\n",
              "      <td>Not employed, and not looking for work</td>\n",
              "      <td>Secondary school</td>\n",
              "      <td>NaN</td>\n",
              "      <td>NaN</td>\n",
              "      <td>NaN</td>\n",
              "      <td>...</td>\n",
              "      <td>Strongly disagree</td>\n",
              "      <td>Male</td>\n",
              "      <td>High school</td>\n",
              "      <td>White or of European descent</td>\n",
              "      <td>Strongly disagree</td>\n",
              "      <td>Strongly agree</td>\n",
              "      <td>Disagree</td>\n",
              "      <td>Strongly agree</td>\n",
              "      <td>NaN</td>\n",
              "      <td>NaN</td>\n",
              "    </tr>\n",
              "    <tr>\n",
              "      <th>1</th>\n",
              "      <td>2</td>\n",
              "      <td>Student</td>\n",
              "      <td>Yes, both</td>\n",
              "      <td>United Kingdom</td>\n",
              "      <td>Yes, full-time</td>\n",
              "      <td>Employed part-time</td>\n",
              "      <td>Some college/university study without earning ...</td>\n",
              "      <td>Computer science or software engineering</td>\n",
              "      <td>More than half, but not all, the time</td>\n",
              "      <td>20 to 99 employees</td>\n",
              "      <td>...</td>\n",
              "      <td>Strongly disagree</td>\n",
              "      <td>Male</td>\n",
              "      <td>A master's degree</td>\n",
              "      <td>White or of European descent</td>\n",
              "      <td>Somewhat agree</td>\n",
              "      <td>Somewhat agree</td>\n",
              "      <td>Disagree</td>\n",
              "      <td>Strongly agree</td>\n",
              "      <td>NaN</td>\n",
              "      <td>37500.0</td>\n",
              "    </tr>\n",
              "    <tr>\n",
              "      <th>2</th>\n",
              "      <td>3</td>\n",
              "      <td>Professional developer</td>\n",
              "      <td>Yes, both</td>\n",
              "      <td>United Kingdom</td>\n",
              "      <td>No</td>\n",
              "      <td>Employed full-time</td>\n",
              "      <td>Bachelor's degree</td>\n",
              "      <td>Computer science or software engineering</td>\n",
              "      <td>Less than half the time, but at least one day ...</td>\n",
              "      <td>10,000 or more employees</td>\n",
              "      <td>...</td>\n",
              "      <td>Disagree</td>\n",
              "      <td>Male</td>\n",
              "      <td>A professional degree</td>\n",
              "      <td>White or of European descent</td>\n",
              "      <td>Somewhat agree</td>\n",
              "      <td>Agree</td>\n",
              "      <td>Disagree</td>\n",
              "      <td>Agree</td>\n",
              "      <td>113750.0</td>\n",
              "      <td>NaN</td>\n",
              "    </tr>\n",
              "    <tr>\n",
              "      <th>3</th>\n",
              "      <td>4</td>\n",
              "      <td>Professional non-developer who sometimes write...</td>\n",
              "      <td>Yes, both</td>\n",
              "      <td>United States</td>\n",
              "      <td>No</td>\n",
              "      <td>Employed full-time</td>\n",
              "      <td>Doctoral degree</td>\n",
              "      <td>A non-computer-focused engineering discipline</td>\n",
              "      <td>Less than half the time, but at least one day ...</td>\n",
              "      <td>10,000 or more employees</td>\n",
              "      <td>...</td>\n",
              "      <td>Disagree</td>\n",
              "      <td>Male</td>\n",
              "      <td>A doctoral degree</td>\n",
              "      <td>White or of European descent</td>\n",
              "      <td>Agree</td>\n",
              "      <td>Agree</td>\n",
              "      <td>Somewhat agree</td>\n",
              "      <td>Strongly agree</td>\n",
              "      <td>NaN</td>\n",
              "      <td>NaN</td>\n",
              "    </tr>\n",
              "    <tr>\n",
              "      <th>4</th>\n",
              "      <td>5</td>\n",
              "      <td>Professional developer</td>\n",
              "      <td>Yes, I program as a hobby</td>\n",
              "      <td>Switzerland</td>\n",
              "      <td>No</td>\n",
              "      <td>Employed full-time</td>\n",
              "      <td>Master's degree</td>\n",
              "      <td>Computer science or software engineering</td>\n",
              "      <td>Never</td>\n",
              "      <td>10 to 19 employees</td>\n",
              "      <td>...</td>\n",
              "      <td>NaN</td>\n",
              "      <td>NaN</td>\n",
              "      <td>NaN</td>\n",
              "      <td>NaN</td>\n",
              "      <td>NaN</td>\n",
              "      <td>NaN</td>\n",
              "      <td>NaN</td>\n",
              "      <td>NaN</td>\n",
              "      <td>NaN</td>\n",
              "      <td>NaN</td>\n",
              "    </tr>\n",
              "  </tbody>\n",
              "</table>\n",
              "<p>5 rows × 154 columns</p>\n",
              "</div>\n",
              "      <button class=\"colab-df-convert\" onclick=\"convertToInteractive('df-d62445c7-f037-4cb5-934c-8ce3762d5114')\"\n",
              "              title=\"Convert this dataframe to an interactive table.\"\n",
              "              style=\"display:none;\">\n",
              "        \n",
              "  <svg xmlns=\"http://www.w3.org/2000/svg\" height=\"24px\"viewBox=\"0 0 24 24\"\n",
              "       width=\"24px\">\n",
              "    <path d=\"M0 0h24v24H0V0z\" fill=\"none\"/>\n",
              "    <path d=\"M18.56 5.44l.94 2.06.94-2.06 2.06-.94-2.06-.94-.94-2.06-.94 2.06-2.06.94zm-11 1L8.5 8.5l.94-2.06 2.06-.94-2.06-.94L8.5 2.5l-.94 2.06-2.06.94zm10 10l.94 2.06.94-2.06 2.06-.94-2.06-.94-.94-2.06-.94 2.06-2.06.94z\"/><path d=\"M17.41 7.96l-1.37-1.37c-.4-.4-.92-.59-1.43-.59-.52 0-1.04.2-1.43.59L10.3 9.45l-7.72 7.72c-.78.78-.78 2.05 0 2.83L4 21.41c.39.39.9.59 1.41.59.51 0 1.02-.2 1.41-.59l7.78-7.78 2.81-2.81c.8-.78.8-2.07 0-2.86zM5.41 20L4 18.59l7.72-7.72 1.47 1.35L5.41 20z\"/>\n",
              "  </svg>\n",
              "      </button>\n",
              "      \n",
              "  <style>\n",
              "    .colab-df-container {\n",
              "      display:flex;\n",
              "      flex-wrap:wrap;\n",
              "      gap: 12px;\n",
              "    }\n",
              "\n",
              "    .colab-df-convert {\n",
              "      background-color: #E8F0FE;\n",
              "      border: none;\n",
              "      border-radius: 50%;\n",
              "      cursor: pointer;\n",
              "      display: none;\n",
              "      fill: #1967D2;\n",
              "      height: 32px;\n",
              "      padding: 0 0 0 0;\n",
              "      width: 32px;\n",
              "    }\n",
              "\n",
              "    .colab-df-convert:hover {\n",
              "      background-color: #E2EBFA;\n",
              "      box-shadow: 0px 1px 2px rgba(60, 64, 67, 0.3), 0px 1px 3px 1px rgba(60, 64, 67, 0.15);\n",
              "      fill: #174EA6;\n",
              "    }\n",
              "\n",
              "    [theme=dark] .colab-df-convert {\n",
              "      background-color: #3B4455;\n",
              "      fill: #D2E3FC;\n",
              "    }\n",
              "\n",
              "    [theme=dark] .colab-df-convert:hover {\n",
              "      background-color: #434B5C;\n",
              "      box-shadow: 0px 1px 3px 1px rgba(0, 0, 0, 0.15);\n",
              "      filter: drop-shadow(0px 1px 2px rgba(0, 0, 0, 0.3));\n",
              "      fill: #FFFFFF;\n",
              "    }\n",
              "  </style>\n",
              "\n",
              "      <script>\n",
              "        const buttonEl =\n",
              "          document.querySelector('#df-d62445c7-f037-4cb5-934c-8ce3762d5114 button.colab-df-convert');\n",
              "        buttonEl.style.display =\n",
              "          google.colab.kernel.accessAllowed ? 'block' : 'none';\n",
              "\n",
              "        async function convertToInteractive(key) {\n",
              "          const element = document.querySelector('#df-d62445c7-f037-4cb5-934c-8ce3762d5114');\n",
              "          const dataTable =\n",
              "            await google.colab.kernel.invokeFunction('convertToInteractive',\n",
              "                                                     [key], {});\n",
              "          if (!dataTable) return;\n",
              "\n",
              "          const docLinkHtml = 'Like what you see? Visit the ' +\n",
              "            '<a target=\"_blank\" href=https://colab.research.google.com/notebooks/data_table.ipynb>data table notebook</a>'\n",
              "            + ' to learn more about interactive tables.';\n",
              "          element.innerHTML = '';\n",
              "          dataTable['output_type'] = 'display_data';\n",
              "          await google.colab.output.renderOutput(dataTable, element);\n",
              "          const docLink = document.createElement('div');\n",
              "          docLink.innerHTML = docLinkHtml;\n",
              "          element.appendChild(docLink);\n",
              "        }\n",
              "      </script>\n",
              "    </div>\n",
              "  </div>\n",
              "  "
            ]
          },
          "metadata": {},
          "execution_count": 30
        }
      ],
      "source": [
        "df = pd.read_csv('survey_results_public.csv')\n",
        "schema = pd.read_csv('survey_results_schema.csv')\n",
        "df.head()"
      ]
    },
    {
      "cell_type": "code",
      "execution_count": 31,
      "metadata": {
        "colab": {
          "base_uri": "https://localhost:8080/",
          "height": 206
        },
        "id": "D8XbJgtJTTxn",
        "outputId": "1b9d298a-16b5-429c-8a48-c2f78e1d0006"
      },
      "outputs": [
        {
          "output_type": "execute_result",
          "data": {
            "text/plain": [
              "         Column                                           Question\n",
              "0    Respondent                               Respondent ID number\n",
              "1  Professional         Which of the following best describes you?\n",
              "2  ProgramHobby  Do you program as a hobby or contribute to ope...\n",
              "3       Country            In which country do you currently live?\n",
              "4    University  Are you currently enrolled in a formal, degree..."
            ],
            "text/html": [
              "\n",
              "  <div id=\"df-975b4771-b3d2-429b-a448-86e005bea51b\">\n",
              "    <div class=\"colab-df-container\">\n",
              "      <div>\n",
              "<style scoped>\n",
              "    .dataframe tbody tr th:only-of-type {\n",
              "        vertical-align: middle;\n",
              "    }\n",
              "\n",
              "    .dataframe tbody tr th {\n",
              "        vertical-align: top;\n",
              "    }\n",
              "\n",
              "    .dataframe thead th {\n",
              "        text-align: right;\n",
              "    }\n",
              "</style>\n",
              "<table border=\"1\" class=\"dataframe\">\n",
              "  <thead>\n",
              "    <tr style=\"text-align: right;\">\n",
              "      <th></th>\n",
              "      <th>Column</th>\n",
              "      <th>Question</th>\n",
              "    </tr>\n",
              "  </thead>\n",
              "  <tbody>\n",
              "    <tr>\n",
              "      <th>0</th>\n",
              "      <td>Respondent</td>\n",
              "      <td>Respondent ID number</td>\n",
              "    </tr>\n",
              "    <tr>\n",
              "      <th>1</th>\n",
              "      <td>Professional</td>\n",
              "      <td>Which of the following best describes you?</td>\n",
              "    </tr>\n",
              "    <tr>\n",
              "      <th>2</th>\n",
              "      <td>ProgramHobby</td>\n",
              "      <td>Do you program as a hobby or contribute to ope...</td>\n",
              "    </tr>\n",
              "    <tr>\n",
              "      <th>3</th>\n",
              "      <td>Country</td>\n",
              "      <td>In which country do you currently live?</td>\n",
              "    </tr>\n",
              "    <tr>\n",
              "      <th>4</th>\n",
              "      <td>University</td>\n",
              "      <td>Are you currently enrolled in a formal, degree...</td>\n",
              "    </tr>\n",
              "  </tbody>\n",
              "</table>\n",
              "</div>\n",
              "      <button class=\"colab-df-convert\" onclick=\"convertToInteractive('df-975b4771-b3d2-429b-a448-86e005bea51b')\"\n",
              "              title=\"Convert this dataframe to an interactive table.\"\n",
              "              style=\"display:none;\">\n",
              "        \n",
              "  <svg xmlns=\"http://www.w3.org/2000/svg\" height=\"24px\"viewBox=\"0 0 24 24\"\n",
              "       width=\"24px\">\n",
              "    <path d=\"M0 0h24v24H0V0z\" fill=\"none\"/>\n",
              "    <path d=\"M18.56 5.44l.94 2.06.94-2.06 2.06-.94-2.06-.94-.94-2.06-.94 2.06-2.06.94zm-11 1L8.5 8.5l.94-2.06 2.06-.94-2.06-.94L8.5 2.5l-.94 2.06-2.06.94zm10 10l.94 2.06.94-2.06 2.06-.94-2.06-.94-.94-2.06-.94 2.06-2.06.94z\"/><path d=\"M17.41 7.96l-1.37-1.37c-.4-.4-.92-.59-1.43-.59-.52 0-1.04.2-1.43.59L10.3 9.45l-7.72 7.72c-.78.78-.78 2.05 0 2.83L4 21.41c.39.39.9.59 1.41.59.51 0 1.02-.2 1.41-.59l7.78-7.78 2.81-2.81c.8-.78.8-2.07 0-2.86zM5.41 20L4 18.59l7.72-7.72 1.47 1.35L5.41 20z\"/>\n",
              "  </svg>\n",
              "      </button>\n",
              "      \n",
              "  <style>\n",
              "    .colab-df-container {\n",
              "      display:flex;\n",
              "      flex-wrap:wrap;\n",
              "      gap: 12px;\n",
              "    }\n",
              "\n",
              "    .colab-df-convert {\n",
              "      background-color: #E8F0FE;\n",
              "      border: none;\n",
              "      border-radius: 50%;\n",
              "      cursor: pointer;\n",
              "      display: none;\n",
              "      fill: #1967D2;\n",
              "      height: 32px;\n",
              "      padding: 0 0 0 0;\n",
              "      width: 32px;\n",
              "    }\n",
              "\n",
              "    .colab-df-convert:hover {\n",
              "      background-color: #E2EBFA;\n",
              "      box-shadow: 0px 1px 2px rgba(60, 64, 67, 0.3), 0px 1px 3px 1px rgba(60, 64, 67, 0.15);\n",
              "      fill: #174EA6;\n",
              "    }\n",
              "\n",
              "    [theme=dark] .colab-df-convert {\n",
              "      background-color: #3B4455;\n",
              "      fill: #D2E3FC;\n",
              "    }\n",
              "\n",
              "    [theme=dark] .colab-df-convert:hover {\n",
              "      background-color: #434B5C;\n",
              "      box-shadow: 0px 1px 3px 1px rgba(0, 0, 0, 0.15);\n",
              "      filter: drop-shadow(0px 1px 2px rgba(0, 0, 0, 0.3));\n",
              "      fill: #FFFFFF;\n",
              "    }\n",
              "  </style>\n",
              "\n",
              "      <script>\n",
              "        const buttonEl =\n",
              "          document.querySelector('#df-975b4771-b3d2-429b-a448-86e005bea51b button.colab-df-convert');\n",
              "        buttonEl.style.display =\n",
              "          google.colab.kernel.accessAllowed ? 'block' : 'none';\n",
              "\n",
              "        async function convertToInteractive(key) {\n",
              "          const element = document.querySelector('#df-975b4771-b3d2-429b-a448-86e005bea51b');\n",
              "          const dataTable =\n",
              "            await google.colab.kernel.invokeFunction('convertToInteractive',\n",
              "                                                     [key], {});\n",
              "          if (!dataTable) return;\n",
              "\n",
              "          const docLinkHtml = 'Like what you see? Visit the ' +\n",
              "            '<a target=\"_blank\" href=https://colab.research.google.com/notebooks/data_table.ipynb>data table notebook</a>'\n",
              "            + ' to learn more about interactive tables.';\n",
              "          element.innerHTML = '';\n",
              "          dataTable['output_type'] = 'display_data';\n",
              "          await google.colab.output.renderOutput(dataTable, element);\n",
              "          const docLink = document.createElement('div');\n",
              "          docLink.innerHTML = docLinkHtml;\n",
              "          element.appendChild(docLink);\n",
              "        }\n",
              "      </script>\n",
              "    </div>\n",
              "  </div>\n",
              "  "
            ]
          },
          "metadata": {},
          "execution_count": 31
        }
      ],
      "source": [
        "schema.head()"
      ]
    },
    {
      "cell_type": "code",
      "execution_count": null,
      "metadata": {
        "id": "frlVMw9ETX7R"
      },
      "outputs": [],
      "source": [
        "# print all column names to find some questions...\n",
        "for col in sorted(df.columns):\n",
        "  print(col)"
      ]
    },
    {
      "cell_type": "code",
      "execution_count": 33,
      "metadata": {
        "id": "0yJrQCXdUo1v"
      },
      "outputs": [],
      "source": [
        "# create a function to print a column's name description\n",
        "def print_desc(col_name):\n",
        "  print(schema.loc[schema.Column == col_name].Question.values[0])"
      ]
    },
    {
      "cell_type": "markdown",
      "source": [
        "Suppose I was someone in IT and I want to get a job that pays more than my current one.\n",
        "Using the stack overflow survey can help me determine what job should I get next.\n",
        "\n",
        "Here's the list of questions that will help me to find the answer\n",
        "\n",
        "*   What are the most used languages according to the survey?\n",
        "*   What is the average pay for each language?\n",
        "*   What kind of jobs I can work with the top payed languages?\n",
        "*   What is the best way to learn that language?\n",
        "\n"
      ],
      "metadata": {
        "id": "AYtLHm7KiI1W"
      }
    },
    {
      "cell_type": "code",
      "source": [
        "# most used language\n",
        "from collections import Counter\n",
        "language_counter = Counter()\n",
        "\n",
        "no_nan_languages = df['HaveWorkedLanguage'].dropna()\n",
        "no_nan_languages.apply(lambda col: language_counter.update(col.split(';')))\n",
        "\n",
        "language_counter.most_common(5)"
      ],
      "metadata": {
        "colab": {
          "base_uri": "https://localhost:8080/"
        },
        "id": "w1Xa-CFVf_Sq",
        "outputId": "22f584f9-c1be-4105-b76c-268fbe77a9c5"
      },
      "execution_count": 34,
      "outputs": [
        {
          "output_type": "execute_result",
          "data": {
            "text/plain": [
              "[(' SQL', 18466),\n",
              " (' JavaScript', 17159),\n",
              " (' Python', 10719),\n",
              " (' PHP', 9765),\n",
              " (' Java', 8622)]"
            ]
          },
          "metadata": {},
          "execution_count": 34
        }
      ]
    },
    {
      "cell_type": "code",
      "source": [
        "df_top_languages = pd.DataFrame(language_counter.most_common(5), columns=['Language', 'Frequency'])\n",
        "df_top_languages = df_top_languages.set_index('Language')\n",
        "df_top_languages.head()"
      ],
      "metadata": {
        "colab": {
          "base_uri": "https://localhost:8080/",
          "height": 238
        },
        "id": "P4XqZ_5HglER",
        "outputId": "eba5be60-36b3-4c23-c5a7-3406dffba2ec"
      },
      "execution_count": 35,
      "outputs": [
        {
          "output_type": "execute_result",
          "data": {
            "text/plain": [
              "             Frequency\n",
              "Language              \n",
              " SQL             18466\n",
              " JavaScript      17159\n",
              " Python          10719\n",
              " PHP              9765\n",
              " Java             8622"
            ],
            "text/html": [
              "\n",
              "  <div id=\"df-a84bfbba-9b1c-4ae3-8a74-a9aff038c5c6\">\n",
              "    <div class=\"colab-df-container\">\n",
              "      <div>\n",
              "<style scoped>\n",
              "    .dataframe tbody tr th:only-of-type {\n",
              "        vertical-align: middle;\n",
              "    }\n",
              "\n",
              "    .dataframe tbody tr th {\n",
              "        vertical-align: top;\n",
              "    }\n",
              "\n",
              "    .dataframe thead th {\n",
              "        text-align: right;\n",
              "    }\n",
              "</style>\n",
              "<table border=\"1\" class=\"dataframe\">\n",
              "  <thead>\n",
              "    <tr style=\"text-align: right;\">\n",
              "      <th></th>\n",
              "      <th>Frequency</th>\n",
              "    </tr>\n",
              "    <tr>\n",
              "      <th>Language</th>\n",
              "      <th></th>\n",
              "    </tr>\n",
              "  </thead>\n",
              "  <tbody>\n",
              "    <tr>\n",
              "      <th>SQL</th>\n",
              "      <td>18466</td>\n",
              "    </tr>\n",
              "    <tr>\n",
              "      <th>JavaScript</th>\n",
              "      <td>17159</td>\n",
              "    </tr>\n",
              "    <tr>\n",
              "      <th>Python</th>\n",
              "      <td>10719</td>\n",
              "    </tr>\n",
              "    <tr>\n",
              "      <th>PHP</th>\n",
              "      <td>9765</td>\n",
              "    </tr>\n",
              "    <tr>\n",
              "      <th>Java</th>\n",
              "      <td>8622</td>\n",
              "    </tr>\n",
              "  </tbody>\n",
              "</table>\n",
              "</div>\n",
              "      <button class=\"colab-df-convert\" onclick=\"convertToInteractive('df-a84bfbba-9b1c-4ae3-8a74-a9aff038c5c6')\"\n",
              "              title=\"Convert this dataframe to an interactive table.\"\n",
              "              style=\"display:none;\">\n",
              "        \n",
              "  <svg xmlns=\"http://www.w3.org/2000/svg\" height=\"24px\"viewBox=\"0 0 24 24\"\n",
              "       width=\"24px\">\n",
              "    <path d=\"M0 0h24v24H0V0z\" fill=\"none\"/>\n",
              "    <path d=\"M18.56 5.44l.94 2.06.94-2.06 2.06-.94-2.06-.94-.94-2.06-.94 2.06-2.06.94zm-11 1L8.5 8.5l.94-2.06 2.06-.94-2.06-.94L8.5 2.5l-.94 2.06-2.06.94zm10 10l.94 2.06.94-2.06 2.06-.94-2.06-.94-.94-2.06-.94 2.06-2.06.94z\"/><path d=\"M17.41 7.96l-1.37-1.37c-.4-.4-.92-.59-1.43-.59-.52 0-1.04.2-1.43.59L10.3 9.45l-7.72 7.72c-.78.78-.78 2.05 0 2.83L4 21.41c.39.39.9.59 1.41.59.51 0 1.02-.2 1.41-.59l7.78-7.78 2.81-2.81c.8-.78.8-2.07 0-2.86zM5.41 20L4 18.59l7.72-7.72 1.47 1.35L5.41 20z\"/>\n",
              "  </svg>\n",
              "      </button>\n",
              "      \n",
              "  <style>\n",
              "    .colab-df-container {\n",
              "      display:flex;\n",
              "      flex-wrap:wrap;\n",
              "      gap: 12px;\n",
              "    }\n",
              "\n",
              "    .colab-df-convert {\n",
              "      background-color: #E8F0FE;\n",
              "      border: none;\n",
              "      border-radius: 50%;\n",
              "      cursor: pointer;\n",
              "      display: none;\n",
              "      fill: #1967D2;\n",
              "      height: 32px;\n",
              "      padding: 0 0 0 0;\n",
              "      width: 32px;\n",
              "    }\n",
              "\n",
              "    .colab-df-convert:hover {\n",
              "      background-color: #E2EBFA;\n",
              "      box-shadow: 0px 1px 2px rgba(60, 64, 67, 0.3), 0px 1px 3px 1px rgba(60, 64, 67, 0.15);\n",
              "      fill: #174EA6;\n",
              "    }\n",
              "\n",
              "    [theme=dark] .colab-df-convert {\n",
              "      background-color: #3B4455;\n",
              "      fill: #D2E3FC;\n",
              "    }\n",
              "\n",
              "    [theme=dark] .colab-df-convert:hover {\n",
              "      background-color: #434B5C;\n",
              "      box-shadow: 0px 1px 3px 1px rgba(0, 0, 0, 0.15);\n",
              "      filter: drop-shadow(0px 1px 2px rgba(0, 0, 0, 0.3));\n",
              "      fill: #FFFFFF;\n",
              "    }\n",
              "  </style>\n",
              "\n",
              "      <script>\n",
              "        const buttonEl =\n",
              "          document.querySelector('#df-a84bfbba-9b1c-4ae3-8a74-a9aff038c5c6 button.colab-df-convert');\n",
              "        buttonEl.style.display =\n",
              "          google.colab.kernel.accessAllowed ? 'block' : 'none';\n",
              "\n",
              "        async function convertToInteractive(key) {\n",
              "          const element = document.querySelector('#df-a84bfbba-9b1c-4ae3-8a74-a9aff038c5c6');\n",
              "          const dataTable =\n",
              "            await google.colab.kernel.invokeFunction('convertToInteractive',\n",
              "                                                     [key], {});\n",
              "          if (!dataTable) return;\n",
              "\n",
              "          const docLinkHtml = 'Like what you see? Visit the ' +\n",
              "            '<a target=\"_blank\" href=https://colab.research.google.com/notebooks/data_table.ipynb>data table notebook</a>'\n",
              "            + ' to learn more about interactive tables.';\n",
              "          element.innerHTML = '';\n",
              "          dataTable['output_type'] = 'display_data';\n",
              "          await google.colab.output.renderOutput(dataTable, element);\n",
              "          const docLink = document.createElement('div');\n",
              "          docLink.innerHTML = docLinkHtml;\n",
              "          element.appendChild(docLink);\n",
              "        }\n",
              "      </script>\n",
              "    </div>\n",
              "  </div>\n",
              "  "
            ]
          },
          "metadata": {},
          "execution_count": 35
        }
      ]
    },
    {
      "cell_type": "code",
      "source": [
        "df_top_languages.plot(kind='pie', y='Frequency', figsize=(12, 9), autopct='%1.1f%%')\n",
        "plt.title('Most used languages')\n",
        "plt.ylabel(None);"
      ],
      "metadata": {
        "colab": {
          "base_uri": "https://localhost:8080/",
          "height": 536
        },
        "id": "4LLH5oUWhmD_",
        "outputId": "0eab7cc8-e400-4b0f-869e-77bf8b596ebb"
      },
      "execution_count": 37,
      "outputs": [
        {
          "output_type": "display_data",
          "data": {
            "text/plain": [
              "<Figure size 864x648 with 1 Axes>"
            ],
            "image/png": "[encoded data removed]"
          },
          "metadata": {}
        }
      ]
    },
    {
      "cell_type": "code",
      "source": [
        "# average pay for each language?\n",
        "lang_list = [x[0].strip() for x in language_counter.most_common(5)]\n",
        "temp_list = []\n",
        "for language in lang_list:\n",
        "  temp_list.append(\n",
        "      {\n",
        "          'language': language,\n",
        "          'average_salary': df.query('@language in HaveWorkedLanguage')['Salary'].mean()\n",
        "      }\n",
        "  )\n",
        "df_average_salary = pd.DataFrame(temp_list)\n",
        "\n",
        "df_average_salary = df_average_salary.set_index('language')"
      ],
      "metadata": {
        "id": "zbhXLcpeiuBj"
      },
      "execution_count": 39,
      "outputs": []
    },
    {
      "cell_type": "code",
      "source": [
        "df_average_salary.sort_values('average_salary', ascending=False).plot(kind='bar', figsize=(12, 9))\n",
        "plt.xticks(rotation=45);\n",
        "plt.title('The average pay for each language')\n",
        "plt.legend(['Average Salary']);"
      ],
      "metadata": {
        "colab": {
          "base_uri": "https://localhost:8080/",
          "height": 599
        },
        "id": "e6zI83RHmE89",
        "outputId": "dc5f467a-2224-4f94-ff0b-9f840c53e8ff"
      },
      "execution_count": 44,
      "outputs": [
        {
          "output_type": "display_data",
          "data": {
            "text/plain": [
              "<Figure size 864x648 with 1 Axes>"
            ],
            "image/png": "[encoded data removed]"
          },
          "metadata": {
            "needs_background": "light"
          }
        }
      ]
    },
    {
      "cell_type": "code",
      "source": [
        "print_desc('SelfTaughtTypes') # which column tells you how to learn that language?"
      ],
      "metadata": {
        "colab": {
          "base_uri": "https://localhost:8080/"
        },
        "id": "aiqnfTMM10NF",
        "outputId": "0f9453d2-1d3b-49cc-838d-5a7c1ab94ebc"
      },
      "execution_count": 45,
      "outputs": [
        {
          "output_type": "stream",
          "name": "stdout",
          "text": [
            "You indicated that you had taught yourself a programming technology without taking a course. What resources did you use to do that? If you've done it more than once, please think about the most recent time you've done so.\n"
          ]
        }
      ]
    },
    {
      "cell_type": "code",
      "source": [
        "# best way to learn this language\n",
        "resource_counter = Counter()\n",
        "\n",
        "lang = 'SQL'\n",
        "df_sql_users = df.query('@lang in HaveWorkedLanguage')\n",
        "\n",
        "no_nan_resource = df_sql_users['SelfTaughtTypes'].dropna()\n",
        "no_nan_resource.apply(lambda col: resource_counter.update(col.split(';')))\n",
        "\n",
        "resource_counter.most_common(5)"
      ],
      "metadata": {
        "colab": {
          "base_uri": "https://localhost:8080/"
        },
        "id": "I0qseoUZ2NXx",
        "outputId": "de691363-e7f5-4112-fc5b-b2165183dd42"
      },
      "execution_count": 46,
      "outputs": [
        {
          "output_type": "execute_result",
          "data": {
            "text/plain": [
              "[('Official documentation', 69),\n",
              " (' Stack Overflow Q&A', 62),\n",
              " (' Built-in help', 51),\n",
              " (' Non-Stack online communities', 51),\n",
              " (' Trade book', 42)]"
            ]
          },
          "metadata": {},
          "execution_count": 46
        }
      ]
    },
    {
      "cell_type": "code",
      "source": [
        "resource_counter = Counter()\n",
        "\n",
        "lang = 'Python'\n",
        "df_python_users = df.query('@lang in HaveWorkedLanguage')\n",
        "\n",
        "no_nan_resource = df_python_users['SelfTaughtTypes'].dropna()\n",
        "no_nan_resource.apply(lambda col: resource_counter.update(col.split(';')))\n",
        "\n",
        "resource_counter.most_common(5)"
      ],
      "metadata": {
        "colab": {
          "base_uri": "https://localhost:8080/"
        },
        "id": "nihPuH9o4cWB",
        "outputId": "6dab9e9f-59d9-4ac6-92cc-3b9f44549769"
      },
      "execution_count": 47,
      "outputs": [
        {
          "output_type": "execute_result",
          "data": {
            "text/plain": [
              "[('Official documentation', 257),\n",
              " (' Stack Overflow Q&A', 244),\n",
              " (' Built-in help', 160),\n",
              " (' Trade book', 141),\n",
              " (' Non-Stack online communities', 141)]"
            ]
          },
          "metadata": {},
          "execution_count": 47
        }
      ]
    },
    {
      "cell_type": "code",
      "source": [
        "resource_counter = Counter()\n",
        "\n",
        "lang = 'JavaScript'\n",
        "df_javascript_users = df.query('@lang in HaveWorkedLanguage')\n",
        "\n",
        "no_nan_resource = df_javascript_users['SelfTaughtTypes'].dropna()\n",
        "no_nan_resource.apply(lambda col: resource_counter.update(col.split(';')))\n",
        "\n",
        "resource_counter.most_common(5)"
      ],
      "metadata": {
        "colab": {
          "base_uri": "https://localhost:8080/"
        },
        "id": "stg6LnmK4o-p",
        "outputId": "e677a1df-27b9-473b-a705-ee82e44d96f0"
      },
      "execution_count": 48,
      "outputs": [
        {
          "output_type": "execute_result",
          "data": {
            "text/plain": [
              "[('Official documentation', 437),\n",
              " (' Stack Overflow Q&A', 403),\n",
              " (' Non-Stack online communities', 241),\n",
              " (' Built-in help', 230),\n",
              " (' Trade book', 224)]"
            ]
          },
          "metadata": {},
          "execution_count": 48
        }
      ]
    },
    {
      "cell_type": "code",
      "source": [
        "# what kind of jobs i can expect from learning this programming language\n",
        "job_counter = Counter()\n",
        "\n",
        "no_nan_devtype = df_sql_users['DeveloperType'].dropna()\n",
        "no_nan_nondevtype = df_sql_users['NonDeveloperType'].dropna()\n",
        "\n",
        "no_nan_devtype.apply(lambda col: job_counter.update(col.split(';')))\n",
        "no_nan_nondevtype.apply(lambda col: job_counter.update(col.split(';')))\n",
        "\n",
        "job_counter.most_common(5)"
      ],
      "metadata": {
        "id": "JZ0vfE164uwv",
        "colab": {
          "base_uri": "https://localhost:8080/"
        },
        "outputId": "9103315b-d7fd-4da9-f4a6-5d8b7ff04c10"
      },
      "execution_count": 24,
      "outputs": [
        {
          "output_type": "execute_result",
          "data": {
            "text/plain": [
              "[('Other', 39),\n",
              " (' Database administrator', 39),\n",
              " ('Desktop applications developer', 25),\n",
              " (' Desktop applications developer', 24),\n",
              " ('Analyst or consultant', 23)]"
            ]
          },
          "metadata": {},
          "execution_count": 24
        }
      ]
    },
    {
      "cell_type": "code",
      "source": [
        "job_counter = Counter()\n",
        "\n",
        "no_nan_devtype = df_python_users['DeveloperType'].dropna()\n",
        "no_nan_nondevtype = df_python_users['NonDeveloperType'].dropna()\n",
        "\n",
        "no_nan_devtype.apply(lambda col: job_counter.update(col.split(';')))\n",
        "no_nan_nondevtype.apply(lambda col: job_counter.update(col.split(';')))\n",
        "\n",
        "job_counter.most_common(5)"
      ],
      "metadata": {
        "colab": {
          "base_uri": "https://localhost:8080/"
        },
        "id": "g--_flqQ3m_A",
        "outputId": "c43ab790-c51a-43cf-e561-c2a615e05339"
      },
      "execution_count": 25,
      "outputs": [
        {
          "output_type": "execute_result",
          "data": {
            "text/plain": [
              "[('Web developer', 108),\n",
              " ('Other', 60),\n",
              " ('Analyst or consultant', 47),\n",
              " (' Data scientist', 44),\n",
              " (' DevOps specialist', 41)]"
            ]
          },
          "metadata": {},
          "execution_count": 25
        }
      ]
    },
    {
      "cell_type": "code",
      "source": [
        "job_counter = Counter()\n",
        "\n",
        "no_nan_devtype = df_javascript_users['DeveloperType'].dropna()\n",
        "no_nan_nondevtype = df_javascript_users['NonDeveloperType'].dropna()\n",
        "\n",
        "no_nan_devtype.apply(lambda col: job_counter.update(col.split(';')))\n",
        "no_nan_nondevtype.apply(lambda col: job_counter.update(col.split(';')))\n",
        "\n",
        "job_counter.most_common(5)"
      ],
      "metadata": {
        "colab": {
          "base_uri": "https://localhost:8080/"
        },
        "id": "8W0eDZQy30UW",
        "outputId": "24a0a60b-6557-43ce-c2eb-4a4f000c2f65"
      },
      "execution_count": 26,
      "outputs": [
        {
          "output_type": "execute_result",
          "data": {
            "text/plain": [
              "[('Web developer', 608),\n",
              " (' Mobile developer', 77),\n",
              " (' Graphic designer', 43),\n",
              " (' Desktop applications developer', 42),\n",
              " (' DevOps specialist', 31)]"
            ]
          },
          "metadata": {},
          "execution_count": 26
        }
      ]
    },
    {
      "cell_type": "code",
      "source": [],
      "metadata": {
        "id": "j6szCZhT34s6"
      },
      "execution_count": null,
      "outputs": []
    }
  ],
  "metadata": {
    "colab": {
      "provenance": []
    },
    "kernelspec": {
      "display_name": "Python 3",
      "name": "python3"
    },
    "language_info": {
      "name": "python"
    }
  },
  "nbformat": 4,
  "nbformat_minor": 0
}